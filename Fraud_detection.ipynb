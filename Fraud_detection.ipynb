{
 "cells": [
  {
   "cell_type": "code",
   "execution_count": 1,
   "id": "7941a880",
   "metadata": {},
   "outputs": [],
   "source": [
    "import pandas as pd\n",
    "import seaborn as sns\n",
    "import numpy as np\n",
    "from statistics import mean\n",
    "import matplotlib.pyplot as plt\n",
    "import warnings\n",
    "from sklearn.linear_model import LogisticRegression\n",
    "from sklearn.ensemble import RandomForestClassifier, AdaBoostClassifier\n",
    "from sklearn.tree import DecisionTreeClassifier\n",
    "from sklearn.svm import SVC\n",
    "from sklearn.metrics import accuracy_score , classification_report, precision_score, recall_score, f1_score , roc_auc_score\n",
    "from sklearn import metrics\n",
    "from sklearn.model_selection import train_test_split\n",
    "from sklearn.preprocessing import StandardScaler, MinMaxScaler,RobustScaler"
   ]
  },
  {
   "cell_type": "code",
   "execution_count": 2,
   "id": "44de7972",
   "metadata": {},
   "outputs": [],
   "source": [
    "df = pd.read_csv(\"onlinefraud.csv\")"
   ]
  },
  {
   "cell_type": "code",
   "execution_count": 3,
   "id": "f00c96ba",
   "metadata": {},
   "outputs": [
    {
     "data": {
      "text/html": [
       "<div>\n",
       "<style scoped>\n",
       "    .dataframe tbody tr th:only-of-type {\n",
       "        vertical-align: middle;\n",
       "    }\n",
       "\n",
       "    .dataframe tbody tr th {\n",
       "        vertical-align: top;\n",
       "    }\n",
       "\n",
       "    .dataframe thead th {\n",
       "        text-align: right;\n",
       "    }\n",
       "</style>\n",
       "<table border=\"1\" class=\"dataframe\">\n",
       "  <thead>\n",
       "    <tr style=\"text-align: right;\">\n",
       "      <th></th>\n",
       "      <th>step</th>\n",
       "      <th>type</th>\n",
       "      <th>amount</th>\n",
       "      <th>nameOrig</th>\n",
       "      <th>oldbalanceOrg</th>\n",
       "      <th>newbalanceOrig</th>\n",
       "      <th>nameDest</th>\n",
       "      <th>oldbalanceDest</th>\n",
       "      <th>newbalanceDest</th>\n",
       "      <th>isFraud</th>\n",
       "      <th>isFlaggedFraud</th>\n",
       "    </tr>\n",
       "  </thead>\n",
       "  <tbody>\n",
       "    <tr>\n",
       "      <th>0</th>\n",
       "      <td>1</td>\n",
       "      <td>PAYMENT</td>\n",
       "      <td>9839.64</td>\n",
       "      <td>C1231006815</td>\n",
       "      <td>170136.0</td>\n",
       "      <td>160296.36</td>\n",
       "      <td>M1979787155</td>\n",
       "      <td>0.0</td>\n",
       "      <td>0.0</td>\n",
       "      <td>0</td>\n",
       "      <td>0</td>\n",
       "    </tr>\n",
       "    <tr>\n",
       "      <th>1</th>\n",
       "      <td>1</td>\n",
       "      <td>PAYMENT</td>\n",
       "      <td>1864.28</td>\n",
       "      <td>C1666544295</td>\n",
       "      <td>21249.0</td>\n",
       "      <td>19384.72</td>\n",
       "      <td>M2044282225</td>\n",
       "      <td>0.0</td>\n",
       "      <td>0.0</td>\n",
       "      <td>0</td>\n",
       "      <td>0</td>\n",
       "    </tr>\n",
       "    <tr>\n",
       "      <th>2</th>\n",
       "      <td>1</td>\n",
       "      <td>TRANSFER</td>\n",
       "      <td>181.00</td>\n",
       "      <td>C1305486145</td>\n",
       "      <td>181.0</td>\n",
       "      <td>0.00</td>\n",
       "      <td>C553264065</td>\n",
       "      <td>0.0</td>\n",
       "      <td>0.0</td>\n",
       "      <td>1</td>\n",
       "      <td>0</td>\n",
       "    </tr>\n",
       "    <tr>\n",
       "      <th>3</th>\n",
       "      <td>1</td>\n",
       "      <td>CASH_OUT</td>\n",
       "      <td>181.00</td>\n",
       "      <td>C840083671</td>\n",
       "      <td>181.0</td>\n",
       "      <td>0.00</td>\n",
       "      <td>C38997010</td>\n",
       "      <td>21182.0</td>\n",
       "      <td>0.0</td>\n",
       "      <td>1</td>\n",
       "      <td>0</td>\n",
       "    </tr>\n",
       "    <tr>\n",
       "      <th>4</th>\n",
       "      <td>1</td>\n",
       "      <td>PAYMENT</td>\n",
       "      <td>11668.14</td>\n",
       "      <td>C2048537720</td>\n",
       "      <td>41554.0</td>\n",
       "      <td>29885.86</td>\n",
       "      <td>M1230701703</td>\n",
       "      <td>0.0</td>\n",
       "      <td>0.0</td>\n",
       "      <td>0</td>\n",
       "      <td>0</td>\n",
       "    </tr>\n",
       "  </tbody>\n",
       "</table>\n",
       "</div>"
      ],
      "text/plain": [
       "   step      type    amount     nameOrig  oldbalanceOrg  newbalanceOrig  \\\n",
       "0     1   PAYMENT   9839.64  C1231006815       170136.0       160296.36   \n",
       "1     1   PAYMENT   1864.28  C1666544295        21249.0        19384.72   \n",
       "2     1  TRANSFER    181.00  C1305486145          181.0            0.00   \n",
       "3     1  CASH_OUT    181.00   C840083671          181.0            0.00   \n",
       "4     1   PAYMENT  11668.14  C2048537720        41554.0        29885.86   \n",
       "\n",
       "      nameDest  oldbalanceDest  newbalanceDest  isFraud  isFlaggedFraud  \n",
       "0  M1979787155             0.0             0.0        0               0  \n",
       "1  M2044282225             0.0             0.0        0               0  \n",
       "2   C553264065             0.0             0.0        1               0  \n",
       "3    C38997010         21182.0             0.0        1               0  \n",
       "4  M1230701703             0.0             0.0        0               0  "
      ]
     },
     "execution_count": 3,
     "metadata": {},
     "output_type": "execute_result"
    }
   ],
   "source": [
    "df.head()"
   ]
  },
  {
   "cell_type": "code",
   "execution_count": 4,
   "id": "1dd98c9b",
   "metadata": {},
   "outputs": [
    {
     "name": "stdout",
     "output_type": "stream",
     "text": [
      "<class 'pandas.core.frame.DataFrame'>\n",
      "RangeIndex: 6362620 entries, 0 to 6362619\n",
      "Data columns (total 11 columns):\n",
      " #   Column          Dtype  \n",
      "---  ------          -----  \n",
      " 0   step            int64  \n",
      " 1   type            object \n",
      " 2   amount          float64\n",
      " 3   nameOrig        object \n",
      " 4   oldbalanceOrg   float64\n",
      " 5   newbalanceOrig  float64\n",
      " 6   nameDest        object \n",
      " 7   oldbalanceDest  float64\n",
      " 8   newbalanceDest  float64\n",
      " 9   isFraud         int64  \n",
      " 10  isFlaggedFraud  int64  \n",
      "dtypes: float64(5), int64(3), object(3)\n",
      "memory usage: 534.0+ MB\n"
     ]
    }
   ],
   "source": [
    "df.info()"
   ]
  },
  {
   "cell_type": "code",
   "execution_count": 5,
   "id": "4334d5aa",
   "metadata": {},
   "outputs": [],
   "source": [
    "pd.options.display.float_format = \"{:.0f}\".format"
   ]
  },
  {
   "cell_type": "code",
   "execution_count": 6,
   "id": "acc527f2",
   "metadata": {},
   "outputs": [
    {
     "data": {
      "text/html": [
       "<div>\n",
       "<style scoped>\n",
       "    .dataframe tbody tr th:only-of-type {\n",
       "        vertical-align: middle;\n",
       "    }\n",
       "\n",
       "    .dataframe tbody tr th {\n",
       "        vertical-align: top;\n",
       "    }\n",
       "\n",
       "    .dataframe thead th {\n",
       "        text-align: right;\n",
       "    }\n",
       "</style>\n",
       "<table border=\"1\" class=\"dataframe\">\n",
       "  <thead>\n",
       "    <tr style=\"text-align: right;\">\n",
       "      <th></th>\n",
       "      <th>step</th>\n",
       "      <th>amount</th>\n",
       "      <th>oldbalanceOrg</th>\n",
       "      <th>newbalanceOrig</th>\n",
       "      <th>oldbalanceDest</th>\n",
       "      <th>newbalanceDest</th>\n",
       "      <th>isFraud</th>\n",
       "      <th>isFlaggedFraud</th>\n",
       "    </tr>\n",
       "  </thead>\n",
       "  <tbody>\n",
       "    <tr>\n",
       "      <th>count</th>\n",
       "      <td>6362620</td>\n",
       "      <td>6362620</td>\n",
       "      <td>6362620</td>\n",
       "      <td>6362620</td>\n",
       "      <td>6362620</td>\n",
       "      <td>6362620</td>\n",
       "      <td>6362620</td>\n",
       "      <td>6362620</td>\n",
       "    </tr>\n",
       "    <tr>\n",
       "      <th>mean</th>\n",
       "      <td>243</td>\n",
       "      <td>179862</td>\n",
       "      <td>833883</td>\n",
       "      <td>855114</td>\n",
       "      <td>1100702</td>\n",
       "      <td>1224996</td>\n",
       "      <td>0</td>\n",
       "      <td>0</td>\n",
       "    </tr>\n",
       "    <tr>\n",
       "      <th>std</th>\n",
       "      <td>142</td>\n",
       "      <td>603858</td>\n",
       "      <td>2888243</td>\n",
       "      <td>2924049</td>\n",
       "      <td>3399180</td>\n",
       "      <td>3674129</td>\n",
       "      <td>0</td>\n",
       "      <td>0</td>\n",
       "    </tr>\n",
       "    <tr>\n",
       "      <th>min</th>\n",
       "      <td>1</td>\n",
       "      <td>0</td>\n",
       "      <td>0</td>\n",
       "      <td>0</td>\n",
       "      <td>0</td>\n",
       "      <td>0</td>\n",
       "      <td>0</td>\n",
       "      <td>0</td>\n",
       "    </tr>\n",
       "    <tr>\n",
       "      <th>25%</th>\n",
       "      <td>156</td>\n",
       "      <td>13390</td>\n",
       "      <td>0</td>\n",
       "      <td>0</td>\n",
       "      <td>0</td>\n",
       "      <td>0</td>\n",
       "      <td>0</td>\n",
       "      <td>0</td>\n",
       "    </tr>\n",
       "    <tr>\n",
       "      <th>50%</th>\n",
       "      <td>239</td>\n",
       "      <td>74872</td>\n",
       "      <td>14208</td>\n",
       "      <td>0</td>\n",
       "      <td>132706</td>\n",
       "      <td>214661</td>\n",
       "      <td>0</td>\n",
       "      <td>0</td>\n",
       "    </tr>\n",
       "    <tr>\n",
       "      <th>75%</th>\n",
       "      <td>335</td>\n",
       "      <td>208721</td>\n",
       "      <td>107315</td>\n",
       "      <td>144258</td>\n",
       "      <td>943037</td>\n",
       "      <td>1111909</td>\n",
       "      <td>0</td>\n",
       "      <td>0</td>\n",
       "    </tr>\n",
       "    <tr>\n",
       "      <th>max</th>\n",
       "      <td>743</td>\n",
       "      <td>92445517</td>\n",
       "      <td>59585040</td>\n",
       "      <td>49585040</td>\n",
       "      <td>356015889</td>\n",
       "      <td>356179279</td>\n",
       "      <td>1</td>\n",
       "      <td>1</td>\n",
       "    </tr>\n",
       "  </tbody>\n",
       "</table>\n",
       "</div>"
      ],
      "text/plain": [
       "         step   amount  oldbalanceOrg  newbalanceOrig  oldbalanceDest  \\\n",
       "count 6362620  6362620        6362620         6362620         6362620   \n",
       "mean      243   179862         833883          855114         1100702   \n",
       "std       142   603858        2888243         2924049         3399180   \n",
       "min         1        0              0               0               0   \n",
       "25%       156    13390              0               0               0   \n",
       "50%       239    74872          14208               0          132706   \n",
       "75%       335   208721         107315          144258          943037   \n",
       "max       743 92445517       59585040        49585040       356015889   \n",
       "\n",
       "       newbalanceDest  isFraud  isFlaggedFraud  \n",
       "count         6362620  6362620         6362620  \n",
       "mean          1224996        0               0  \n",
       "std           3674129        0               0  \n",
       "min                 0        0               0  \n",
       "25%                 0        0               0  \n",
       "50%            214661        0               0  \n",
       "75%           1111909        0               0  \n",
       "max         356179279        1               1  "
      ]
     },
     "execution_count": 6,
     "metadata": {},
     "output_type": "execute_result"
    }
   ],
   "source": [
    "df.describe()"
   ]
  },
  {
   "cell_type": "code",
   "execution_count": 7,
   "id": "cc803aa2",
   "metadata": {},
   "outputs": [
    {
     "data": {
      "text/plain": [
       "(6362620, 11)"
      ]
     },
     "execution_count": 7,
     "metadata": {},
     "output_type": "execute_result"
    }
   ],
   "source": [
    "df.shape"
   ]
  },
  {
   "cell_type": "code",
   "execution_count": 8,
   "id": "44462a97",
   "metadata": {},
   "outputs": [
    {
     "data": {
      "text/plain": [
       "Index(['step', 'type', 'amount', 'nameOrig', 'oldbalanceOrg', 'newbalanceOrig',\n",
       "       'nameDest', 'oldbalanceDest', 'newbalanceDest', 'isFraud',\n",
       "       'isFlaggedFraud'],\n",
       "      dtype='object')"
      ]
     },
     "execution_count": 8,
     "metadata": {},
     "output_type": "execute_result"
    }
   ],
   "source": [
    "df.columns"
   ]
  },
  {
   "cell_type": "code",
   "execution_count": 9,
   "id": "84105edd",
   "metadata": {},
   "outputs": [],
   "source": [
    "dup = df[df.duplicated()]"
   ]
  },
  {
   "cell_type": "code",
   "execution_count": 10,
   "id": "7404b731",
   "metadata": {},
   "outputs": [
    {
     "data": {
      "text/html": [
       "<div>\n",
       "<style scoped>\n",
       "    .dataframe tbody tr th:only-of-type {\n",
       "        vertical-align: middle;\n",
       "    }\n",
       "\n",
       "    .dataframe tbody tr th {\n",
       "        vertical-align: top;\n",
       "    }\n",
       "\n",
       "    .dataframe thead th {\n",
       "        text-align: right;\n",
       "    }\n",
       "</style>\n",
       "<table border=\"1\" class=\"dataframe\">\n",
       "  <thead>\n",
       "    <tr style=\"text-align: right;\">\n",
       "      <th></th>\n",
       "      <th>step</th>\n",
       "      <th>type</th>\n",
       "      <th>amount</th>\n",
       "      <th>nameOrig</th>\n",
       "      <th>oldbalanceOrg</th>\n",
       "      <th>newbalanceOrig</th>\n",
       "      <th>nameDest</th>\n",
       "      <th>oldbalanceDest</th>\n",
       "      <th>newbalanceDest</th>\n",
       "      <th>isFraud</th>\n",
       "      <th>isFlaggedFraud</th>\n",
       "    </tr>\n",
       "  </thead>\n",
       "  <tbody>\n",
       "  </tbody>\n",
       "</table>\n",
       "</div>"
      ],
      "text/plain": [
       "Empty DataFrame\n",
       "Columns: [step, type, amount, nameOrig, oldbalanceOrg, newbalanceOrig, nameDest, oldbalanceDest, newbalanceDest, isFraud, isFlaggedFraud]\n",
       "Index: []"
      ]
     },
     "execution_count": 10,
     "metadata": {},
     "output_type": "execute_result"
    }
   ],
   "source": [
    "dup"
   ]
  },
  {
   "cell_type": "code",
   "execution_count": 11,
   "id": "cb44d0fa",
   "metadata": {},
   "outputs": [],
   "source": [
    "#there are no duplicate rows in the data"
   ]
  },
  {
   "cell_type": "code",
   "execution_count": 12,
   "id": "46bb07da",
   "metadata": {},
   "outputs": [
    {
     "data": {
      "text/plain": [
       "(6362620, 11)"
      ]
     },
     "execution_count": 12,
     "metadata": {},
     "output_type": "execute_result"
    }
   ],
   "source": [
    "df.shape"
   ]
  },
  {
   "cell_type": "code",
   "execution_count": 13,
   "id": "b69a01fd",
   "metadata": {},
   "outputs": [
    {
     "data": {
      "text/plain": [
       "type\n",
       "CASH_OUT    2237500\n",
       "PAYMENT     2151495\n",
       "CASH_IN     1399284\n",
       "TRANSFER     532909\n",
       "DEBIT         41432\n",
       "Name: count, dtype: int64"
      ]
     },
     "execution_count": 13,
     "metadata": {},
     "output_type": "execute_result"
    }
   ],
   "source": [
    "df[\"type\"].value_counts()"
   ]
  },
  {
   "cell_type": "code",
   "execution_count": 14,
   "id": "40fcf893",
   "metadata": {},
   "outputs": [
    {
     "data": {
      "image/png": "[encoded data removed]",
      "text/plain": [
       "<Figure size 640x480 with 1 Axes>"
      ]
     },
     "metadata": {},
     "output_type": "display_data"
    }
   ],
   "source": [
    "fraud_type=df.groupby([\"type\",\"isFraud\"]).size().plot(kind=\"bar\")\n",
    "plt.show()"
   ]
  },
  {
   "cell_type": "code",
   "execution_count": 15,
   "id": "d64c0d68",
   "metadata": {},
   "outputs": [
    {
     "data": {
      "image/png": "[encoded data removed]",
      "text/plain": [
       "<Figure size 640x480 with 1 Axes>"
      ]
     },
     "metadata": {},
     "output_type": "display_data"
    }
   ],
   "source": [
    "fraud=df[\"isFraud\"].isin([1])\n",
    "fraud_freq=df[fraud].groupby([\"type\"]).size().plot(kind=\"bar\")\n",
    "plt.show()"
   ]
  },
  {
   "cell_type": "code",
   "execution_count": 16,
   "id": "942c9e4d",
   "metadata": {},
   "outputs": [
    {
     "data": {
      "text/plain": [
       "type\n",
       "CASH_OUT    2237500\n",
       "PAYMENT     2151495\n",
       "CASH_IN     1399284\n",
       "TRANSFER     532909\n",
       "DEBIT         41432\n",
       "Name: count, dtype: int64"
      ]
     },
     "execution_count": 16,
     "metadata": {},
     "output_type": "execute_result"
    }
   ],
   "source": [
    "#only cash out and transfer are fraud.#changing others to all other types\n",
    "df[\"type\"].value_counts()"
   ]
  },
  {
   "cell_type": "code",
   "execution_count": 17,
   "id": "f0772883",
   "metadata": {},
   "outputs": [],
   "source": [
    "df[\"type\"]=np.where(df[\"type\"].isin([\"PAYMENT\" , \"CASH_IN\" , \"DEBIT\"] ),\"others\",df[\"type\"])"
   ]
  },
  {
   "cell_type": "code",
   "execution_count": 18,
   "id": "9f024f8e",
   "metadata": {},
   "outputs": [
    {
     "data": {
      "text/plain": [
       "type\n",
       "others      3592211\n",
       "CASH_OUT    2237500\n",
       "TRANSFER     532909\n",
       "Name: count, dtype: int64"
      ]
     },
     "execution_count": 18,
     "metadata": {},
     "output_type": "execute_result"
    }
   ],
   "source": [
    "df[\"type\"].value_counts()"
   ]
  },
  {
   "cell_type": "code",
   "execution_count": 19,
   "id": "7561014e",
   "metadata": {},
   "outputs": [],
   "source": [
    "df=df[[\"type\",\"amount\",\"oldbalanceOrg\",\"newbalanceOrig\",\"oldbalanceDest\",\"newbalanceDest\",\"isFraud\",\"isFlaggedFraud\"]]"
   ]
  },
  {
   "cell_type": "code",
   "execution_count": 20,
   "id": "3507fcc5",
   "metadata": {},
   "outputs": [
    {
     "name": "stdout",
     "output_type": "stream",
     "text": [
      "<class 'pandas.core.frame.DataFrame'>\n",
      "RangeIndex: 6362620 entries, 0 to 6362619\n",
      "Data columns (total 8 columns):\n",
      " #   Column          Dtype  \n",
      "---  ------          -----  \n",
      " 0   type            object \n",
      " 1   amount          float64\n",
      " 2   oldbalanceOrg   float64\n",
      " 3   newbalanceOrig  float64\n",
      " 4   oldbalanceDest  float64\n",
      " 5   newbalanceDest  float64\n",
      " 6   isFraud         int64  \n",
      " 7   isFlaggedFraud  int64  \n",
      "dtypes: float64(5), int64(2), object(1)\n",
      "memory usage: 388.3+ MB\n"
     ]
    }
   ],
   "source": [
    "df.info()"
   ]
  },
  {
   "cell_type": "code",
   "execution_count": 21,
   "id": "2f6749aa",
   "metadata": {},
   "outputs": [],
   "source": [
    "X=df.drop(columns=[\"isFraud\",\"isFlaggedFraud\"],axis=1)"
   ]
  },
  {
   "cell_type": "code",
   "execution_count": 22,
   "id": "177f3ea9",
   "metadata": {
    "scrolled": true
   },
   "outputs": [
    {
     "data": {
      "text/html": [
       "<div>\n",
       "<style scoped>\n",
       "    .dataframe tbody tr th:only-of-type {\n",
       "        vertical-align: middle;\n",
       "    }\n",
       "\n",
       "    .dataframe tbody tr th {\n",
       "        vertical-align: top;\n",
       "    }\n",
       "\n",
       "    .dataframe thead th {\n",
       "        text-align: right;\n",
       "    }\n",
       "</style>\n",
       "<table border=\"1\" class=\"dataframe\">\n",
       "  <thead>\n",
       "    <tr style=\"text-align: right;\">\n",
       "      <th></th>\n",
       "      <th>type</th>\n",
       "      <th>amount</th>\n",
       "      <th>oldbalanceOrg</th>\n",
       "      <th>newbalanceOrig</th>\n",
       "      <th>oldbalanceDest</th>\n",
       "      <th>newbalanceDest</th>\n",
       "    </tr>\n",
       "  </thead>\n",
       "  <tbody>\n",
       "    <tr>\n",
       "      <th>0</th>\n",
       "      <td>others</td>\n",
       "      <td>9840</td>\n",
       "      <td>170136</td>\n",
       "      <td>160296</td>\n",
       "      <td>0</td>\n",
       "      <td>0</td>\n",
       "    </tr>\n",
       "    <tr>\n",
       "      <th>1</th>\n",
       "      <td>others</td>\n",
       "      <td>1864</td>\n",
       "      <td>21249</td>\n",
       "      <td>19385</td>\n",
       "      <td>0</td>\n",
       "      <td>0</td>\n",
       "    </tr>\n",
       "    <tr>\n",
       "      <th>2</th>\n",
       "      <td>TRANSFER</td>\n",
       "      <td>181</td>\n",
       "      <td>181</td>\n",
       "      <td>0</td>\n",
       "      <td>0</td>\n",
       "      <td>0</td>\n",
       "    </tr>\n",
       "    <tr>\n",
       "      <th>3</th>\n",
       "      <td>CASH_OUT</td>\n",
       "      <td>181</td>\n",
       "      <td>181</td>\n",
       "      <td>0</td>\n",
       "      <td>21182</td>\n",
       "      <td>0</td>\n",
       "    </tr>\n",
       "    <tr>\n",
       "      <th>4</th>\n",
       "      <td>others</td>\n",
       "      <td>11668</td>\n",
       "      <td>41554</td>\n",
       "      <td>29886</td>\n",
       "      <td>0</td>\n",
       "      <td>0</td>\n",
       "    </tr>\n",
       "    <tr>\n",
       "      <th>...</th>\n",
       "      <td>...</td>\n",
       "      <td>...</td>\n",
       "      <td>...</td>\n",
       "      <td>...</td>\n",
       "      <td>...</td>\n",
       "      <td>...</td>\n",
       "    </tr>\n",
       "    <tr>\n",
       "      <th>6362615</th>\n",
       "      <td>CASH_OUT</td>\n",
       "      <td>339682</td>\n",
       "      <td>339682</td>\n",
       "      <td>0</td>\n",
       "      <td>0</td>\n",
       "      <td>339682</td>\n",
       "    </tr>\n",
       "    <tr>\n",
       "      <th>6362616</th>\n",
       "      <td>TRANSFER</td>\n",
       "      <td>6311409</td>\n",
       "      <td>6311409</td>\n",
       "      <td>0</td>\n",
       "      <td>0</td>\n",
       "      <td>0</td>\n",
       "    </tr>\n",
       "    <tr>\n",
       "      <th>6362617</th>\n",
       "      <td>CASH_OUT</td>\n",
       "      <td>6311409</td>\n",
       "      <td>6311409</td>\n",
       "      <td>0</td>\n",
       "      <td>68489</td>\n",
       "      <td>6379898</td>\n",
       "    </tr>\n",
       "    <tr>\n",
       "      <th>6362618</th>\n",
       "      <td>TRANSFER</td>\n",
       "      <td>850003</td>\n",
       "      <td>850003</td>\n",
       "      <td>0</td>\n",
       "      <td>0</td>\n",
       "      <td>0</td>\n",
       "    </tr>\n",
       "    <tr>\n",
       "      <th>6362619</th>\n",
       "      <td>CASH_OUT</td>\n",
       "      <td>850003</td>\n",
       "      <td>850003</td>\n",
       "      <td>0</td>\n",
       "      <td>6510099</td>\n",
       "      <td>7360102</td>\n",
       "    </tr>\n",
       "  </tbody>\n",
       "</table>\n",
       "<p>6362620 rows × 6 columns</p>\n",
       "</div>"
      ],
      "text/plain": [
       "             type  amount  oldbalanceOrg  newbalanceOrig  oldbalanceDest  \\\n",
       "0          others    9840         170136          160296               0   \n",
       "1          others    1864          21249           19385               0   \n",
       "2        TRANSFER     181            181               0               0   \n",
       "3        CASH_OUT     181            181               0           21182   \n",
       "4          others   11668          41554           29886               0   \n",
       "...           ...     ...            ...             ...             ...   \n",
       "6362615  CASH_OUT  339682         339682               0               0   \n",
       "6362616  TRANSFER 6311409        6311409               0               0   \n",
       "6362617  CASH_OUT 6311409        6311409               0           68489   \n",
       "6362618  TRANSFER  850003         850003               0               0   \n",
       "6362619  CASH_OUT  850003         850003               0         6510099   \n",
       "\n",
       "         newbalanceDest  \n",
       "0                     0  \n",
       "1                     0  \n",
       "2                     0  \n",
       "3                     0  \n",
       "4                     0  \n",
       "...                 ...  \n",
       "6362615          339682  \n",
       "6362616               0  \n",
       "6362617         6379898  \n",
       "6362618               0  \n",
       "6362619         7360102  \n",
       "\n",
       "[6362620 rows x 6 columns]"
      ]
     },
     "execution_count": 22,
     "metadata": {},
     "output_type": "execute_result"
    }
   ],
   "source": [
    "X"
   ]
  },
  {
   "cell_type": "code",
   "execution_count": 23,
   "id": "af8b991c",
   "metadata": {},
   "outputs": [],
   "source": [
    "dumies_type=pd.get_dummies(X[\"type\"],prefix=\"type\",drop_first=True,dtype=int)"
   ]
  },
  {
   "cell_type": "code",
   "execution_count": 24,
   "id": "2d52e69c",
   "metadata": {},
   "outputs": [
    {
     "data": {
      "text/html": [
       "<div>\n",
       "<style scoped>\n",
       "    .dataframe tbody tr th:only-of-type {\n",
       "        vertical-align: middle;\n",
       "    }\n",
       "\n",
       "    .dataframe tbody tr th {\n",
       "        vertical-align: top;\n",
       "    }\n",
       "\n",
       "    .dataframe thead th {\n",
       "        text-align: right;\n",
       "    }\n",
       "</style>\n",
       "<table border=\"1\" class=\"dataframe\">\n",
       "  <thead>\n",
       "    <tr style=\"text-align: right;\">\n",
       "      <th></th>\n",
       "      <th>type</th>\n",
       "      <th>amount</th>\n",
       "      <th>oldbalanceOrg</th>\n",
       "      <th>newbalanceOrig</th>\n",
       "      <th>oldbalanceDest</th>\n",
       "      <th>newbalanceDest</th>\n",
       "    </tr>\n",
       "  </thead>\n",
       "  <tbody>\n",
       "    <tr>\n",
       "      <th>0</th>\n",
       "      <td>others</td>\n",
       "      <td>9840</td>\n",
       "      <td>170136</td>\n",
       "      <td>160296</td>\n",
       "      <td>0</td>\n",
       "      <td>0</td>\n",
       "    </tr>\n",
       "    <tr>\n",
       "      <th>1</th>\n",
       "      <td>others</td>\n",
       "      <td>1864</td>\n",
       "      <td>21249</td>\n",
       "      <td>19385</td>\n",
       "      <td>0</td>\n",
       "      <td>0</td>\n",
       "    </tr>\n",
       "    <tr>\n",
       "      <th>2</th>\n",
       "      <td>TRANSFER</td>\n",
       "      <td>181</td>\n",
       "      <td>181</td>\n",
       "      <td>0</td>\n",
       "      <td>0</td>\n",
       "      <td>0</td>\n",
       "    </tr>\n",
       "    <tr>\n",
       "      <th>3</th>\n",
       "      <td>CASH_OUT</td>\n",
       "      <td>181</td>\n",
       "      <td>181</td>\n",
       "      <td>0</td>\n",
       "      <td>21182</td>\n",
       "      <td>0</td>\n",
       "    </tr>\n",
       "    <tr>\n",
       "      <th>4</th>\n",
       "      <td>others</td>\n",
       "      <td>11668</td>\n",
       "      <td>41554</td>\n",
       "      <td>29886</td>\n",
       "      <td>0</td>\n",
       "      <td>0</td>\n",
       "    </tr>\n",
       "    <tr>\n",
       "      <th>...</th>\n",
       "      <td>...</td>\n",
       "      <td>...</td>\n",
       "      <td>...</td>\n",
       "      <td>...</td>\n",
       "      <td>...</td>\n",
       "      <td>...</td>\n",
       "    </tr>\n",
       "    <tr>\n",
       "      <th>6362615</th>\n",
       "      <td>CASH_OUT</td>\n",
       "      <td>339682</td>\n",
       "      <td>339682</td>\n",
       "      <td>0</td>\n",
       "      <td>0</td>\n",
       "      <td>339682</td>\n",
       "    </tr>\n",
       "    <tr>\n",
       "      <th>6362616</th>\n",
       "      <td>TRANSFER</td>\n",
       "      <td>6311409</td>\n",
       "      <td>6311409</td>\n",
       "      <td>0</td>\n",
       "      <td>0</td>\n",
       "      <td>0</td>\n",
       "    </tr>\n",
       "    <tr>\n",
       "      <th>6362617</th>\n",
       "      <td>CASH_OUT</td>\n",
       "      <td>6311409</td>\n",
       "      <td>6311409</td>\n",
       "      <td>0</td>\n",
       "      <td>68489</td>\n",
       "      <td>6379898</td>\n",
       "    </tr>\n",
       "    <tr>\n",
       "      <th>6362618</th>\n",
       "      <td>TRANSFER</td>\n",
       "      <td>850003</td>\n",
       "      <td>850003</td>\n",
       "      <td>0</td>\n",
       "      <td>0</td>\n",
       "      <td>0</td>\n",
       "    </tr>\n",
       "    <tr>\n",
       "      <th>6362619</th>\n",
       "      <td>CASH_OUT</td>\n",
       "      <td>850003</td>\n",
       "      <td>850003</td>\n",
       "      <td>0</td>\n",
       "      <td>6510099</td>\n",
       "      <td>7360102</td>\n",
       "    </tr>\n",
       "  </tbody>\n",
       "</table>\n",
       "<p>6362620 rows × 6 columns</p>\n",
       "</div>"
      ],
      "text/plain": [
       "             type  amount  oldbalanceOrg  newbalanceOrig  oldbalanceDest  \\\n",
       "0          others    9840         170136          160296               0   \n",
       "1          others    1864          21249           19385               0   \n",
       "2        TRANSFER     181            181               0               0   \n",
       "3        CASH_OUT     181            181               0           21182   \n",
       "4          others   11668          41554           29886               0   \n",
       "...           ...     ...            ...             ...             ...   \n",
       "6362615  CASH_OUT  339682         339682               0               0   \n",
       "6362616  TRANSFER 6311409        6311409               0               0   \n",
       "6362617  CASH_OUT 6311409        6311409               0           68489   \n",
       "6362618  TRANSFER  850003         850003               0               0   \n",
       "6362619  CASH_OUT  850003         850003               0         6510099   \n",
       "\n",
       "         newbalanceDest  \n",
       "0                     0  \n",
       "1                     0  \n",
       "2                     0  \n",
       "3                     0  \n",
       "4                     0  \n",
       "...                 ...  \n",
       "6362615          339682  \n",
       "6362616               0  \n",
       "6362617         6379898  \n",
       "6362618               0  \n",
       "6362619         7360102  \n",
       "\n",
       "[6362620 rows x 6 columns]"
      ]
     },
     "execution_count": 24,
     "metadata": {},
     "output_type": "execute_result"
    }
   ],
   "source": [
    "X"
   ]
  },
  {
   "cell_type": "code",
   "execution_count": 25,
   "id": "480c09d4",
   "metadata": {},
   "outputs": [],
   "source": [
    "X=pd.concat([X,dumies_type],axis=1)"
   ]
  },
  {
   "cell_type": "code",
   "execution_count": 26,
   "id": "9f27be94",
   "metadata": {},
   "outputs": [
    {
     "data": {
      "text/html": [
       "<div>\n",
       "<style scoped>\n",
       "    .dataframe tbody tr th:only-of-type {\n",
       "        vertical-align: middle;\n",
       "    }\n",
       "\n",
       "    .dataframe tbody tr th {\n",
       "        vertical-align: top;\n",
       "    }\n",
       "\n",
       "    .dataframe thead th {\n",
       "        text-align: right;\n",
       "    }\n",
       "</style>\n",
       "<table border=\"1\" class=\"dataframe\">\n",
       "  <thead>\n",
       "    <tr style=\"text-align: right;\">\n",
       "      <th></th>\n",
       "      <th>type</th>\n",
       "      <th>amount</th>\n",
       "      <th>oldbalanceOrg</th>\n",
       "      <th>newbalanceOrig</th>\n",
       "      <th>oldbalanceDest</th>\n",
       "      <th>newbalanceDest</th>\n",
       "      <th>type_TRANSFER</th>\n",
       "      <th>type_others</th>\n",
       "    </tr>\n",
       "  </thead>\n",
       "  <tbody>\n",
       "    <tr>\n",
       "      <th>0</th>\n",
       "      <td>others</td>\n",
       "      <td>9840</td>\n",
       "      <td>170136</td>\n",
       "      <td>160296</td>\n",
       "      <td>0</td>\n",
       "      <td>0</td>\n",
       "      <td>0</td>\n",
       "      <td>1</td>\n",
       "    </tr>\n",
       "    <tr>\n",
       "      <th>1</th>\n",
       "      <td>others</td>\n",
       "      <td>1864</td>\n",
       "      <td>21249</td>\n",
       "      <td>19385</td>\n",
       "      <td>0</td>\n",
       "      <td>0</td>\n",
       "      <td>0</td>\n",
       "      <td>1</td>\n",
       "    </tr>\n",
       "    <tr>\n",
       "      <th>2</th>\n",
       "      <td>TRANSFER</td>\n",
       "      <td>181</td>\n",
       "      <td>181</td>\n",
       "      <td>0</td>\n",
       "      <td>0</td>\n",
       "      <td>0</td>\n",
       "      <td>1</td>\n",
       "      <td>0</td>\n",
       "    </tr>\n",
       "    <tr>\n",
       "      <th>3</th>\n",
       "      <td>CASH_OUT</td>\n",
       "      <td>181</td>\n",
       "      <td>181</td>\n",
       "      <td>0</td>\n",
       "      <td>21182</td>\n",
       "      <td>0</td>\n",
       "      <td>0</td>\n",
       "      <td>0</td>\n",
       "    </tr>\n",
       "    <tr>\n",
       "      <th>4</th>\n",
       "      <td>others</td>\n",
       "      <td>11668</td>\n",
       "      <td>41554</td>\n",
       "      <td>29886</td>\n",
       "      <td>0</td>\n",
       "      <td>0</td>\n",
       "      <td>0</td>\n",
       "      <td>1</td>\n",
       "    </tr>\n",
       "    <tr>\n",
       "      <th>...</th>\n",
       "      <td>...</td>\n",
       "      <td>...</td>\n",
       "      <td>...</td>\n",
       "      <td>...</td>\n",
       "      <td>...</td>\n",
       "      <td>...</td>\n",
       "      <td>...</td>\n",
       "      <td>...</td>\n",
       "    </tr>\n",
       "    <tr>\n",
       "      <th>6362615</th>\n",
       "      <td>CASH_OUT</td>\n",
       "      <td>339682</td>\n",
       "      <td>339682</td>\n",
       "      <td>0</td>\n",
       "      <td>0</td>\n",
       "      <td>339682</td>\n",
       "      <td>0</td>\n",
       "      <td>0</td>\n",
       "    </tr>\n",
       "    <tr>\n",
       "      <th>6362616</th>\n",
       "      <td>TRANSFER</td>\n",
       "      <td>6311409</td>\n",
       "      <td>6311409</td>\n",
       "      <td>0</td>\n",
       "      <td>0</td>\n",
       "      <td>0</td>\n",
       "      <td>1</td>\n",
       "      <td>0</td>\n",
       "    </tr>\n",
       "    <tr>\n",
       "      <th>6362617</th>\n",
       "      <td>CASH_OUT</td>\n",
       "      <td>6311409</td>\n",
       "      <td>6311409</td>\n",
       "      <td>0</td>\n",
       "      <td>68489</td>\n",
       "      <td>6379898</td>\n",
       "      <td>0</td>\n",
       "      <td>0</td>\n",
       "    </tr>\n",
       "    <tr>\n",
       "      <th>6362618</th>\n",
       "      <td>TRANSFER</td>\n",
       "      <td>850003</td>\n",
       "      <td>850003</td>\n",
       "      <td>0</td>\n",
       "      <td>0</td>\n",
       "      <td>0</td>\n",
       "      <td>1</td>\n",
       "      <td>0</td>\n",
       "    </tr>\n",
       "    <tr>\n",
       "      <th>6362619</th>\n",
       "      <td>CASH_OUT</td>\n",
       "      <td>850003</td>\n",
       "      <td>850003</td>\n",
       "      <td>0</td>\n",
       "      <td>6510099</td>\n",
       "      <td>7360102</td>\n",
       "      <td>0</td>\n",
       "      <td>0</td>\n",
       "    </tr>\n",
       "  </tbody>\n",
       "</table>\n",
       "<p>6362620 rows × 8 columns</p>\n",
       "</div>"
      ],
      "text/plain": [
       "             type  amount  oldbalanceOrg  newbalanceOrig  oldbalanceDest  \\\n",
       "0          others    9840         170136          160296               0   \n",
       "1          others    1864          21249           19385               0   \n",
       "2        TRANSFER     181            181               0               0   \n",
       "3        CASH_OUT     181            181               0           21182   \n",
       "4          others   11668          41554           29886               0   \n",
       "...           ...     ...            ...             ...             ...   \n",
       "6362615  CASH_OUT  339682         339682               0               0   \n",
       "6362616  TRANSFER 6311409        6311409               0               0   \n",
       "6362617  CASH_OUT 6311409        6311409               0           68489   \n",
       "6362618  TRANSFER  850003         850003               0               0   \n",
       "6362619  CASH_OUT  850003         850003               0         6510099   \n",
       "\n",
       "         newbalanceDest  type_TRANSFER  type_others  \n",
       "0                     0              0            1  \n",
       "1                     0              0            1  \n",
       "2                     0              1            0  \n",
       "3                     0              0            0  \n",
       "4                     0              0            1  \n",
       "...                 ...            ...          ...  \n",
       "6362615          339682              0            0  \n",
       "6362616               0              1            0  \n",
       "6362617         6379898              0            0  \n",
       "6362618               0              1            0  \n",
       "6362619         7360102              0            0  \n",
       "\n",
       "[6362620 rows x 8 columns]"
      ]
     },
     "execution_count": 26,
     "metadata": {},
     "output_type": "execute_result"
    }
   ],
   "source": [
    "X"
   ]
  },
  {
   "cell_type": "code",
   "execution_count": 27,
   "id": "674107e9",
   "metadata": {},
   "outputs": [],
   "source": [
    "X=X.drop(columns=[\"type\"])"
   ]
  },
  {
   "cell_type": "code",
   "execution_count": 28,
   "id": "0573f621",
   "metadata": {},
   "outputs": [
    {
     "data": {
      "text/html": [
       "<div>\n",
       "<style scoped>\n",
       "    .dataframe tbody tr th:only-of-type {\n",
       "        vertical-align: middle;\n",
       "    }\n",
       "\n",
       "    .dataframe tbody tr th {\n",
       "        vertical-align: top;\n",
       "    }\n",
       "\n",
       "    .dataframe thead th {\n",
       "        text-align: right;\n",
       "    }\n",
       "</style>\n",
       "<table border=\"1\" class=\"dataframe\">\n",
       "  <thead>\n",
       "    <tr style=\"text-align: right;\">\n",
       "      <th></th>\n",
       "      <th>amount</th>\n",
       "      <th>oldbalanceOrg</th>\n",
       "      <th>newbalanceOrig</th>\n",
       "      <th>oldbalanceDest</th>\n",
       "      <th>newbalanceDest</th>\n",
       "      <th>type_TRANSFER</th>\n",
       "      <th>type_others</th>\n",
       "    </tr>\n",
       "  </thead>\n",
       "  <tbody>\n",
       "    <tr>\n",
       "      <th>0</th>\n",
       "      <td>9840</td>\n",
       "      <td>170136</td>\n",
       "      <td>160296</td>\n",
       "      <td>0</td>\n",
       "      <td>0</td>\n",
       "      <td>0</td>\n",
       "      <td>1</td>\n",
       "    </tr>\n",
       "    <tr>\n",
       "      <th>1</th>\n",
       "      <td>1864</td>\n",
       "      <td>21249</td>\n",
       "      <td>19385</td>\n",
       "      <td>0</td>\n",
       "      <td>0</td>\n",
       "      <td>0</td>\n",
       "      <td>1</td>\n",
       "    </tr>\n",
       "    <tr>\n",
       "      <th>2</th>\n",
       "      <td>181</td>\n",
       "      <td>181</td>\n",
       "      <td>0</td>\n",
       "      <td>0</td>\n",
       "      <td>0</td>\n",
       "      <td>1</td>\n",
       "      <td>0</td>\n",
       "    </tr>\n",
       "    <tr>\n",
       "      <th>3</th>\n",
       "      <td>181</td>\n",
       "      <td>181</td>\n",
       "      <td>0</td>\n",
       "      <td>21182</td>\n",
       "      <td>0</td>\n",
       "      <td>0</td>\n",
       "      <td>0</td>\n",
       "    </tr>\n",
       "    <tr>\n",
       "      <th>4</th>\n",
       "      <td>11668</td>\n",
       "      <td>41554</td>\n",
       "      <td>29886</td>\n",
       "      <td>0</td>\n",
       "      <td>0</td>\n",
       "      <td>0</td>\n",
       "      <td>1</td>\n",
       "    </tr>\n",
       "    <tr>\n",
       "      <th>...</th>\n",
       "      <td>...</td>\n",
       "      <td>...</td>\n",
       "      <td>...</td>\n",
       "      <td>...</td>\n",
       "      <td>...</td>\n",
       "      <td>...</td>\n",
       "      <td>...</td>\n",
       "    </tr>\n",
       "    <tr>\n",
       "      <th>6362615</th>\n",
       "      <td>339682</td>\n",
       "      <td>339682</td>\n",
       "      <td>0</td>\n",
       "      <td>0</td>\n",
       "      <td>339682</td>\n",
       "      <td>0</td>\n",
       "      <td>0</td>\n",
       "    </tr>\n",
       "    <tr>\n",
       "      <th>6362616</th>\n",
       "      <td>6311409</td>\n",
       "      <td>6311409</td>\n",
       "      <td>0</td>\n",
       "      <td>0</td>\n",
       "      <td>0</td>\n",
       "      <td>1</td>\n",
       "      <td>0</td>\n",
       "    </tr>\n",
       "    <tr>\n",
       "      <th>6362617</th>\n",
       "      <td>6311409</td>\n",
       "      <td>6311409</td>\n",
       "      <td>0</td>\n",
       "      <td>68489</td>\n",
       "      <td>6379898</td>\n",
       "      <td>0</td>\n",
       "      <td>0</td>\n",
       "    </tr>\n",
       "    <tr>\n",
       "      <th>6362618</th>\n",
       "      <td>850003</td>\n",
       "      <td>850003</td>\n",
       "      <td>0</td>\n",
       "      <td>0</td>\n",
       "      <td>0</td>\n",
       "      <td>1</td>\n",
       "      <td>0</td>\n",
       "    </tr>\n",
       "    <tr>\n",
       "      <th>6362619</th>\n",
       "      <td>850003</td>\n",
       "      <td>850003</td>\n",
       "      <td>0</td>\n",
       "      <td>6510099</td>\n",
       "      <td>7360102</td>\n",
       "      <td>0</td>\n",
       "      <td>0</td>\n",
       "    </tr>\n",
       "  </tbody>\n",
       "</table>\n",
       "<p>6362620 rows × 7 columns</p>\n",
       "</div>"
      ],
      "text/plain": [
       "         amount  oldbalanceOrg  newbalanceOrig  oldbalanceDest  \\\n",
       "0          9840         170136          160296               0   \n",
       "1          1864          21249           19385               0   \n",
       "2           181            181               0               0   \n",
       "3           181            181               0           21182   \n",
       "4         11668          41554           29886               0   \n",
       "...         ...            ...             ...             ...   \n",
       "6362615  339682         339682               0               0   \n",
       "6362616 6311409        6311409               0               0   \n",
       "6362617 6311409        6311409               0           68489   \n",
       "6362618  850003         850003               0               0   \n",
       "6362619  850003         850003               0         6510099   \n",
       "\n",
       "         newbalanceDest  type_TRANSFER  type_others  \n",
       "0                     0              0            1  \n",
       "1                     0              0            1  \n",
       "2                     0              1            0  \n",
       "3                     0              0            0  \n",
       "4                     0              0            1  \n",
       "...                 ...            ...          ...  \n",
       "6362615          339682              0            0  \n",
       "6362616               0              1            0  \n",
       "6362617         6379898              0            0  \n",
       "6362618               0              1            0  \n",
       "6362619         7360102              0            0  \n",
       "\n",
       "[6362620 rows x 7 columns]"
      ]
     },
     "execution_count": 28,
     "metadata": {},
     "output_type": "execute_result"
    }
   ],
   "source": [
    "X"
   ]
  },
  {
   "cell_type": "code",
   "execution_count": 29,
   "id": "bf66d007",
   "metadata": {},
   "outputs": [
    {
     "data": {
      "text/html": [
       "<div>\n",
       "<style scoped>\n",
       "    .dataframe tbody tr th:only-of-type {\n",
       "        vertical-align: middle;\n",
       "    }\n",
       "\n",
       "    .dataframe tbody tr th {\n",
       "        vertical-align: top;\n",
       "    }\n",
       "\n",
       "    .dataframe thead th {\n",
       "        text-align: right;\n",
       "    }\n",
       "</style>\n",
       "<table border=\"1\" class=\"dataframe\">\n",
       "  <thead>\n",
       "    <tr style=\"text-align: right;\">\n",
       "      <th></th>\n",
       "      <th>amount</th>\n",
       "      <th>oldbalanceOrg</th>\n",
       "      <th>newbalanceOrig</th>\n",
       "      <th>oldbalanceDest</th>\n",
       "      <th>newbalanceDest</th>\n",
       "      <th>type_TRANSFER</th>\n",
       "      <th>type_others</th>\n",
       "    </tr>\n",
       "  </thead>\n",
       "  <tbody>\n",
       "    <tr>\n",
       "      <th>amount</th>\n",
       "      <td>1</td>\n",
       "      <td>-0</td>\n",
       "      <td>-0</td>\n",
       "      <td>0</td>\n",
       "      <td>0</td>\n",
       "      <td>0</td>\n",
       "      <td>-0</td>\n",
       "    </tr>\n",
       "    <tr>\n",
       "      <th>oldbalanceOrg</th>\n",
       "      <td>-0</td>\n",
       "      <td>1</td>\n",
       "      <td>1</td>\n",
       "      <td>0</td>\n",
       "      <td>0</td>\n",
       "      <td>-0</td>\n",
       "      <td>0</td>\n",
       "    </tr>\n",
       "    <tr>\n",
       "      <th>newbalanceOrig</th>\n",
       "      <td>-0</td>\n",
       "      <td>1</td>\n",
       "      <td>1</td>\n",
       "      <td>0</td>\n",
       "      <td>0</td>\n",
       "      <td>-0</td>\n",
       "      <td>0</td>\n",
       "    </tr>\n",
       "    <tr>\n",
       "      <th>oldbalanceDest</th>\n",
       "      <td>0</td>\n",
       "      <td>0</td>\n",
       "      <td>0</td>\n",
       "      <td>1</td>\n",
       "      <td>1</td>\n",
       "      <td>0</td>\n",
       "      <td>-0</td>\n",
       "    </tr>\n",
       "    <tr>\n",
       "      <th>newbalanceDest</th>\n",
       "      <td>0</td>\n",
       "      <td>0</td>\n",
       "      <td>0</td>\n",
       "      <td>1</td>\n",
       "      <td>1</td>\n",
       "      <td>0</td>\n",
       "      <td>-0</td>\n",
       "    </tr>\n",
       "    <tr>\n",
       "      <th>type_TRANSFER</th>\n",
       "      <td>0</td>\n",
       "      <td>-0</td>\n",
       "      <td>-0</td>\n",
       "      <td>0</td>\n",
       "      <td>0</td>\n",
       "      <td>1</td>\n",
       "      <td>-0</td>\n",
       "    </tr>\n",
       "    <tr>\n",
       "      <th>type_others</th>\n",
       "      <td>-0</td>\n",
       "      <td>0</td>\n",
       "      <td>0</td>\n",
       "      <td>-0</td>\n",
       "      <td>-0</td>\n",
       "      <td>-0</td>\n",
       "      <td>1</td>\n",
       "    </tr>\n",
       "  </tbody>\n",
       "</table>\n",
       "</div>"
      ],
      "text/plain": [
       "                amount  oldbalanceOrg  newbalanceOrig  oldbalanceDest  \\\n",
       "amount               1             -0              -0               0   \n",
       "oldbalanceOrg       -0              1               1               0   \n",
       "newbalanceOrig      -0              1               1               0   \n",
       "oldbalanceDest       0              0               0               1   \n",
       "newbalanceDest       0              0               0               1   \n",
       "type_TRANSFER        0             -0              -0               0   \n",
       "type_others         -0              0               0              -0   \n",
       "\n",
       "                newbalanceDest  type_TRANSFER  type_others  \n",
       "amount                       0              0           -0  \n",
       "oldbalanceOrg                0             -0            0  \n",
       "newbalanceOrig               0             -0            0  \n",
       "oldbalanceDest               1              0           -0  \n",
       "newbalanceDest               1              0           -0  \n",
       "type_TRANSFER                0              1           -0  \n",
       "type_others                 -0             -0            1  "
      ]
     },
     "execution_count": 29,
     "metadata": {},
     "output_type": "execute_result"
    }
   ],
   "source": [
    "X.corr()"
   ]
  },
  {
   "cell_type": "code",
   "execution_count": 30,
   "id": "02020402",
   "metadata": {},
   "outputs": [
    {
     "data": {
      "image/png": "[encoded data removed]",
      "text/plain": [
       "<Figure size 2500x1500 with 2 Axes>"
      ]
     },
     "metadata": {},
     "output_type": "display_data"
    }
   ],
   "source": [
    "corr=X.corr()\n",
    "plt.figure(figsize=(25,15))\n",
    "sns.heatmap(corr,annot=True,cmap=\"RdYlGn\")\n",
    "plt.show()"
   ]
  },
  {
   "cell_type": "code",
   "execution_count": 31,
   "id": "2e2cb377",
   "metadata": {},
   "outputs": [],
   "source": [
    "from statsmodels.stats.outliers_influence import variance_inflation_factor\n",
    "vif=pd.DataFrame()\n",
    "vif[\"VIF\"]=[variance_inflation_factor(X.values,i) for i in range(X.shape[1])]\n",
    "vif[\"variable\"]=X.columns"
   ]
  },
  {
   "cell_type": "code",
   "execution_count": 32,
   "id": "1770d750",
   "metadata": {},
   "outputs": [
    {
     "data": {
      "text/html": [
       "<div>\n",
       "<style scoped>\n",
       "    .dataframe tbody tr th:only-of-type {\n",
       "        vertical-align: middle;\n",
       "    }\n",
       "\n",
       "    .dataframe tbody tr th {\n",
       "        vertical-align: top;\n",
       "    }\n",
       "\n",
       "    .dataframe thead th {\n",
       "        text-align: right;\n",
       "    }\n",
       "</style>\n",
       "<table border=\"1\" class=\"dataframe\">\n",
       "  <thead>\n",
       "    <tr style=\"text-align: right;\">\n",
       "      <th></th>\n",
       "      <th>VIF</th>\n",
       "      <th>variable</th>\n",
       "    </tr>\n",
       "  </thead>\n",
       "  <tbody>\n",
       "    <tr>\n",
       "      <th>0</th>\n",
       "      <td>4</td>\n",
       "      <td>amount</td>\n",
       "    </tr>\n",
       "    <tr>\n",
       "      <th>1</th>\n",
       "      <td>489</td>\n",
       "      <td>oldbalanceOrg</td>\n",
       "    </tr>\n",
       "    <tr>\n",
       "      <th>2</th>\n",
       "      <td>494</td>\n",
       "      <td>newbalanceOrig</td>\n",
       "    </tr>\n",
       "    <tr>\n",
       "      <th>3</th>\n",
       "      <td>72</td>\n",
       "      <td>oldbalanceDest</td>\n",
       "    </tr>\n",
       "    <tr>\n",
       "      <th>4</th>\n",
       "      <td>84</td>\n",
       "      <td>newbalanceDest</td>\n",
       "    </tr>\n",
       "    <tr>\n",
       "      <th>5</th>\n",
       "      <td>1</td>\n",
       "      <td>type_TRANSFER</td>\n",
       "    </tr>\n",
       "    <tr>\n",
       "      <th>6</th>\n",
       "      <td>1</td>\n",
       "      <td>type_others</td>\n",
       "    </tr>\n",
       "  </tbody>\n",
       "</table>\n",
       "</div>"
      ],
      "text/plain": [
       "   VIF        variable\n",
       "0    4          amount\n",
       "1  489   oldbalanceOrg\n",
       "2  494  newbalanceOrig\n",
       "3   72  oldbalanceDest\n",
       "4   84  newbalanceDest\n",
       "5    1   type_TRANSFER\n",
       "6    1     type_others"
      ]
     },
     "execution_count": 32,
     "metadata": {},
     "output_type": "execute_result"
    }
   ],
   "source": [
    "vif"
   ]
  },
  {
   "cell_type": "code",
   "execution_count": 33,
   "id": "db549c7b",
   "metadata": {},
   "outputs": [],
   "source": [
    "X.drop(columns=[\"newbalanceOrig\"],axis=1,inplace=True)"
   ]
  },
  {
   "cell_type": "code",
   "execution_count": 34,
   "id": "23bf2977",
   "metadata": {},
   "outputs": [],
   "source": [
    "vif=pd.DataFrame()\n",
    "vif[\"VIF\"]=[variance_inflation_factor(X.values,i) for i in range(X.shape[1])]\n",
    "vif[\"variable\"]=X.columns"
   ]
  },
  {
   "cell_type": "code",
   "execution_count": 35,
   "id": "bb1d0b71",
   "metadata": {},
   "outputs": [
    {
     "data": {
      "text/html": [
       "<div>\n",
       "<style scoped>\n",
       "    .dataframe tbody tr th:only-of-type {\n",
       "        vertical-align: middle;\n",
       "    }\n",
       "\n",
       "    .dataframe tbody tr th {\n",
       "        vertical-align: top;\n",
       "    }\n",
       "\n",
       "    .dataframe thead th {\n",
       "        text-align: right;\n",
       "    }\n",
       "</style>\n",
       "<table border=\"1\" class=\"dataframe\">\n",
       "  <thead>\n",
       "    <tr style=\"text-align: right;\">\n",
       "      <th></th>\n",
       "      <th>VIF</th>\n",
       "      <th>variable</th>\n",
       "    </tr>\n",
       "  </thead>\n",
       "  <tbody>\n",
       "    <tr>\n",
       "      <th>0</th>\n",
       "      <td>4</td>\n",
       "      <td>amount</td>\n",
       "    </tr>\n",
       "    <tr>\n",
       "      <th>1</th>\n",
       "      <td>1</td>\n",
       "      <td>oldbalanceOrg</td>\n",
       "    </tr>\n",
       "    <tr>\n",
       "      <th>2</th>\n",
       "      <td>71</td>\n",
       "      <td>oldbalanceDest</td>\n",
       "    </tr>\n",
       "    <tr>\n",
       "      <th>3</th>\n",
       "      <td>83</td>\n",
       "      <td>newbalanceDest</td>\n",
       "    </tr>\n",
       "    <tr>\n",
       "      <th>4</th>\n",
       "      <td>1</td>\n",
       "      <td>type_TRANSFER</td>\n",
       "    </tr>\n",
       "    <tr>\n",
       "      <th>5</th>\n",
       "      <td>1</td>\n",
       "      <td>type_others</td>\n",
       "    </tr>\n",
       "  </tbody>\n",
       "</table>\n",
       "</div>"
      ],
      "text/plain": [
       "   VIF        variable\n",
       "0    4          amount\n",
       "1    1   oldbalanceOrg\n",
       "2   71  oldbalanceDest\n",
       "3   83  newbalanceDest\n",
       "4    1   type_TRANSFER\n",
       "5    1     type_others"
      ]
     },
     "execution_count": 35,
     "metadata": {},
     "output_type": "execute_result"
    }
   ],
   "source": [
    "vif"
   ]
  },
  {
   "cell_type": "code",
   "execution_count": 36,
   "id": "f58686f5",
   "metadata": {},
   "outputs": [],
   "source": [
    "X.drop([\"newbalanceDest\"],axis=1,inplace=True)"
   ]
  },
  {
   "cell_type": "code",
   "execution_count": 37,
   "id": "21caf661",
   "metadata": {},
   "outputs": [],
   "source": [
    "vif=pd.DataFrame()\n",
    "vif[\"VIF\"]=[variance_inflation_factor(X.values,i) for i in range(X.shape[1])]\n",
    "vif[\"variable\"]=X.columns"
   ]
  },
  {
   "cell_type": "code",
   "execution_count": 38,
   "id": "86fb6a73",
   "metadata": {},
   "outputs": [
    {
     "data": {
      "text/html": [
       "<div>\n",
       "<style scoped>\n",
       "    .dataframe tbody tr th:only-of-type {\n",
       "        vertical-align: middle;\n",
       "    }\n",
       "\n",
       "    .dataframe tbody tr th {\n",
       "        vertical-align: top;\n",
       "    }\n",
       "\n",
       "    .dataframe thead th {\n",
       "        text-align: right;\n",
       "    }\n",
       "</style>\n",
       "<table border=\"1\" class=\"dataframe\">\n",
       "  <thead>\n",
       "    <tr style=\"text-align: right;\">\n",
       "      <th></th>\n",
       "      <th>VIF</th>\n",
       "      <th>variable</th>\n",
       "    </tr>\n",
       "  </thead>\n",
       "  <tbody>\n",
       "    <tr>\n",
       "      <th>0</th>\n",
       "      <td>1</td>\n",
       "      <td>amount</td>\n",
       "    </tr>\n",
       "    <tr>\n",
       "      <th>1</th>\n",
       "      <td>1</td>\n",
       "      <td>oldbalanceOrg</td>\n",
       "    </tr>\n",
       "    <tr>\n",
       "      <th>2</th>\n",
       "      <td>1</td>\n",
       "      <td>oldbalanceDest</td>\n",
       "    </tr>\n",
       "    <tr>\n",
       "      <th>3</th>\n",
       "      <td>1</td>\n",
       "      <td>type_TRANSFER</td>\n",
       "    </tr>\n",
       "    <tr>\n",
       "      <th>4</th>\n",
       "      <td>1</td>\n",
       "      <td>type_others</td>\n",
       "    </tr>\n",
       "  </tbody>\n",
       "</table>\n",
       "</div>"
      ],
      "text/plain": [
       "   VIF        variable\n",
       "0    1          amount\n",
       "1    1   oldbalanceOrg\n",
       "2    1  oldbalanceDest\n",
       "3    1   type_TRANSFER\n",
       "4    1     type_others"
      ]
     },
     "execution_count": 38,
     "metadata": {},
     "output_type": "execute_result"
    }
   ],
   "source": [
    "vif"
   ]
  },
  {
   "cell_type": "code",
   "execution_count": 39,
   "id": "1f373c90",
   "metadata": {},
   "outputs": [],
   "source": [
    "Y=df[\"isFraud\"]"
   ]
  },
  {
   "cell_type": "code",
   "execution_count": 40,
   "id": "12757057",
   "metadata": {},
   "outputs": [
    {
     "data": {
      "text/plain": [
       "0          0\n",
       "1          0\n",
       "2          1\n",
       "3          1\n",
       "4          0\n",
       "          ..\n",
       "6362615    1\n",
       "6362616    1\n",
       "6362617    1\n",
       "6362618    1\n",
       "6362619    1\n",
       "Name: isFraud, Length: 6362620, dtype: int64"
      ]
     },
     "execution_count": 40,
     "metadata": {},
     "output_type": "execute_result"
    }
   ],
   "source": [
    "Y"
   ]
  },
  {
   "cell_type": "code",
   "execution_count": 41,
   "id": "747a675d",
   "metadata": {},
   "outputs": [
    {
     "data": {
      "text/plain": [
       "(6362620, 5)"
      ]
     },
     "execution_count": 41,
     "metadata": {},
     "output_type": "execute_result"
    }
   ],
   "source": [
    "X.shape"
   ]
  },
  {
   "cell_type": "code",
   "execution_count": 42,
   "id": "255de431",
   "metadata": {},
   "outputs": [
    {
     "data": {
      "text/plain": [
       "(6362620,)"
      ]
     },
     "execution_count": 42,
     "metadata": {},
     "output_type": "execute_result"
    }
   ],
   "source": [
    "Y.shape"
   ]
  },
  {
   "cell_type": "code",
   "execution_count": 43,
   "id": "f760e3ef",
   "metadata": {},
   "outputs": [],
   "source": [
    "X_train,X_test,Y_train,Y_test = train_test_split(X,Y,test_size=0.3,random_state=42)"
   ]
  },
  {
   "cell_type": "code",
   "execution_count": 44,
   "id": "a44eef2a",
   "metadata": {},
   "outputs": [
    {
     "data": {
      "text/plain": [
       "(4453834, 5)"
      ]
     },
     "execution_count": 44,
     "metadata": {},
     "output_type": "execute_result"
    }
   ],
   "source": [
    "X_train.shape"
   ]
  },
  {
   "cell_type": "code",
   "execution_count": 45,
   "id": "678e249a",
   "metadata": {},
   "outputs": [
    {
     "data": {
      "text/plain": [
       "(1908786, 5)"
      ]
     },
     "execution_count": 45,
     "metadata": {},
     "output_type": "execute_result"
    }
   ],
   "source": [
    "X_test.shape"
   ]
  },
  {
   "cell_type": "code",
   "execution_count": 46,
   "id": "f215ee41",
   "metadata": {},
   "outputs": [],
   "source": [
    "lr=LogisticRegression()"
   ]
  },
  {
   "cell_type": "code",
   "execution_count": 47,
   "id": "f3763ce7",
   "metadata": {},
   "outputs": [
    {
     "data": {
      "text/html": [
       "<style>#sk-container-id-1 {color: black;background-color: white;}#sk-container-id-1 pre{padding: 0;}#sk-container-id-1 div.sk-toggleable {background-color: white;}#sk-container-id-1 label.sk-toggleable__label {cursor: pointer;display: block;width: 100%;margin-bottom: 0;padding: 0.3em;box-sizing: border-box;text-align: center;}#sk-container-id-1 label.sk-toggleable__label-arrow:before {content: \"▸\";float: left;margin-right: 0.25em;color: #696969;}#sk-container-id-1 label.sk-toggleable__label-arrow:hover:before {color: black;}#sk-container-id-1 div.sk-estimator:hover label.sk-toggleable__label-arrow:before {color: black;}#sk-container-id-1 div.sk-toggleable__content {max-height: 0;max-width: 0;overflow: hidden;text-align: left;background-color: #f0f8ff;}#sk-container-id-1 div.sk-toggleable__content pre {margin: 0.2em;color: black;border-radius: 0.25em;background-color: #f0f8ff;}#sk-container-id-1 input.sk-toggleable__control:checked~div.sk-toggleable__content {max-height: 200px;max-width: 100%;overflow: auto;}#sk-container-id-1 input.sk-toggleable__control:checked~label.sk-toggleable__label-arrow:before {content: \"▾\";}#sk-container-id-1 div.sk-estimator input.sk-toggleable__control:checked~label.sk-toggleable__label {background-color: #d4ebff;}#sk-container-id-1 div.sk-label input.sk-toggleable__control:checked~label.sk-toggleable__label {background-color: #d4ebff;}#sk-container-id-1 input.sk-hidden--visually {border: 0;clip: rect(1px 1px 1px 1px);clip: rect(1px, 1px, 1px, 1px);height: 1px;margin: -1px;overflow: hidden;padding: 0;position: absolute;width: 1px;}#sk-container-id-1 div.sk-estimator {font-family: monospace;background-color: #f0f8ff;border: 1px dotted black;border-radius: 0.25em;box-sizing: border-box;margin-bottom: 0.5em;}#sk-container-id-1 div.sk-estimator:hover {background-color: #d4ebff;}#sk-container-id-1 div.sk-parallel-item::after {content: \"\";width: 100%;border-bottom: 1px solid gray;flex-grow: 1;}#sk-container-id-1 div.sk-label:hover label.sk-toggleable__label {background-color: #d4ebff;}#sk-container-id-1 div.sk-serial::before {content: \"\";position: absolute;border-left: 1px solid gray;box-sizing: border-box;top: 0;bottom: 0;left: 50%;z-index: 0;}#sk-container-id-1 div.sk-serial {display: flex;flex-direction: column;align-items: center;background-color: white;padding-right: 0.2em;padding-left: 0.2em;position: relative;}#sk-container-id-1 div.sk-item {position: relative;z-index: 1;}#sk-container-id-1 div.sk-parallel {display: flex;align-items: stretch;justify-content: center;background-color: white;position: relative;}#sk-container-id-1 div.sk-item::before, #sk-container-id-1 div.sk-parallel-item::before {content: \"\";position: absolute;border-left: 1px solid gray;box-sizing: border-box;top: 0;bottom: 0;left: 50%;z-index: -1;}#sk-container-id-1 div.sk-parallel-item {display: flex;flex-direction: column;z-index: 1;position: relative;background-color: white;}#sk-container-id-1 div.sk-parallel-item:first-child::after {align-self: flex-end;width: 50%;}#sk-container-id-1 div.sk-parallel-item:last-child::after {align-self: flex-start;width: 50%;}#sk-container-id-1 div.sk-parallel-item:only-child::after {width: 0;}#sk-container-id-1 div.sk-dashed-wrapped {border: 1px dashed gray;margin: 0 0.4em 0.5em 0.4em;box-sizing: border-box;padding-bottom: 0.4em;background-color: white;}#sk-container-id-1 div.sk-label label {font-family: monospace;font-weight: bold;display: inline-block;line-height: 1.2em;}#sk-container-id-1 div.sk-label-container {text-align: center;}#sk-container-id-1 div.sk-container {/* jupyter's `normalize.less` sets `[hidden] { display: none; }` but bootstrap.min.css set `[hidden] { display: none !important; }` so we also need the `!important` here to be able to override the default hidden behavior on the sphinx rendered scikit-learn.org. See: https://github.com/scikit-learn/scikit-learn/issues/21755 */display: inline-block !important;position: relative;}#sk-container-id-1 div.sk-text-repr-fallback {display: none;}</style><div id=\"sk-container-id-1\" class=\"sk-top-container\"><div class=\"sk-text-repr-fallback\"><pre>LogisticRegression()</pre><b>In a Jupyter environment, please rerun this cell to show the HTML representation or trust the notebook. <br />On GitHub, the HTML representation is unable to render, please try loading this page with nbviewer.org.</b></div><div class=\"sk-container\" hidden><div class=\"sk-item\"><div class=\"sk-estimator sk-toggleable\"><input class=\"sk-toggleable__control sk-hidden--visually\" id=\"sk-estimator-id-1\" type=\"checkbox\" checked><label for=\"sk-estimator-id-1\" class=\"sk-toggleable__label sk-toggleable__label-arrow\">LogisticRegression</label><div class=\"sk-toggleable__content\"><pre>LogisticRegression()</pre></div></div></div></div></div>"
      ],
      "text/plain": [
       "LogisticRegression()"
      ]
     },
     "execution_count": 47,
     "metadata": {},
     "output_type": "execute_result"
    }
   ],
   "source": [
    "lr"
   ]
  },
  {
   "cell_type": "code",
   "execution_count": 48,
   "id": "a23f226b",
   "metadata": {},
   "outputs": [
    {
     "name": "stdout",
     "output_type": "stream",
     "text": [
      "0.998778281064509\n"
     ]
    }
   ],
   "source": [
    "lr_model=lr.fit(X_train,Y_train)\n",
    "print(lr.score(X_test,Y_test))"
   ]
  },
  {
   "cell_type": "code",
   "execution_count": 49,
   "id": "0fbab790",
   "metadata": {},
   "outputs": [],
   "source": [
    "y_pred=lr_model.predict(X_test)"
   ]
  },
  {
   "cell_type": "code",
   "execution_count": 50,
   "id": "216caaa6",
   "metadata": {},
   "outputs": [],
   "source": [
    "from sklearn.svm import SVC\n",
    "from sklearn.metrics import ConfusionMatrixDisplay\n",
    "from sklearn.metrics import confusion_matrix"
   ]
  },
  {
   "cell_type": "code",
   "execution_count": 51,
   "id": "5d09db3f",
   "metadata": {
    "scrolled": false
   },
   "outputs": [],
   "source": [
    "cm_lr = confusion_matrix(Y_test,y_pred)"
   ]
  },
  {
   "cell_type": "code",
   "execution_count": 52,
   "id": "e6dfebe0",
   "metadata": {},
   "outputs": [
    {
     "data": {
      "text/plain": [
       "array([[1906347,       4],\n",
       "       [   2328,     107]], dtype=int64)"
      ]
     },
     "execution_count": 52,
     "metadata": {},
     "output_type": "execute_result"
    }
   ],
   "source": [
    "cm_lr"
   ]
  },
  {
   "cell_type": "code",
   "execution_count": 53,
   "id": "082c493d",
   "metadata": {},
   "outputs": [
    {
     "name": "stdout",
     "output_type": "stream",
     "text": [
      "              precision    recall  f1-score   support\n",
      "\n",
      "           0       1.00      1.00      1.00   1906351\n",
      "           1       0.96      0.04      0.08      2435\n",
      "\n",
      "    accuracy                           1.00   1908786\n",
      "   macro avg       0.98      0.52      0.54   1908786\n",
      "weighted avg       1.00      1.00      1.00   1908786\n",
      "\n"
     ]
    }
   ],
   "source": [
    "y_pred1 = (y_pred > 0.5)\n",
    "from sklearn.metrics import classification_report\n",
    "cl_rp_lr = (classification_report(Y_test, y_pred))\n",
    "print(cl_rp_lr)"
   ]
  },
  {
   "cell_type": "code",
   "execution_count": 54,
   "id": "4a8b960b",
   "metadata": {},
   "outputs": [],
   "source": [
    "tp=cm_lr[0,0]\n",
    "fp=cm_lr[0,1]\n",
    "fn=cm_lr[1,0]\n",
    "tn=cm_lr[1,1]"
   ]
  },
  {
   "cell_type": "code",
   "execution_count": 55,
   "id": "8747c3df",
   "metadata": {},
   "outputs": [
    {
     "name": "stdout",
     "output_type": "stream",
     "text": [
      "accuracy 0.998778281064509\n",
      "precision 0.9999979017505171\n",
      "Recall 0.9987803057094581\n",
      "f1_score 0.9993887328683998\n"
     ]
    }
   ],
   "source": [
    "#classification_report \n",
    "accuracy=(tp+tn)/(tp+tn+fp+fn)\n",
    "print(\"accuracy\",accuracy)\n",
    "precision=(tp)/(tp+fp)\n",
    "print(\"precision\",precision)\n",
    "Recall=(tp)/(tp+fn)\n",
    "print(\"Recall\",Recall)\n",
    "f1_score=2*(Recall*precision)/(Recall+precision)\n",
    "print(\"f1_score\",f1_score)\n"
   ]
  },
  {
   "cell_type": "code",
   "execution_count": 56,
   "id": "a1d98a69",
   "metadata": {},
   "outputs": [],
   "source": [
    "#not fraud and also predicted not fraud\t1906347\n",
    "#not fraud but predicted fraud\t2328\n",
    "#fraud and predicted not fraud\t4\n",
    "#fraud and predicted also fraud\t107\n",
    "#those who are actaully fraud and are predicted no fraud are very less. \n",
    "#model is peforming good."
   ]
  },
  {
   "cell_type": "code",
   "execution_count": 57,
   "id": "fb62be6d",
   "metadata": {},
   "outputs": [],
   "source": [
    "#This is a case of imbalanced data set. not fraud person data is too large in comparision to isfraud."
   ]
  },
  {
   "cell_type": "code",
   "execution_count": 58,
   "id": "e9d463b4",
   "metadata": {},
   "outputs": [
    {
     "data": {
      "text/plain": [
       "isFraud\n",
       "0    6354407\n",
       "1       8213\n",
       "Name: count, dtype: int64"
      ]
     },
     "execution_count": 58,
     "metadata": {},
     "output_type": "execute_result"
    }
   ],
   "source": [
    "df[\"isFraud\"].value_counts()"
   ]
  },
  {
   "cell_type": "code",
   "execution_count": 59,
   "id": "2a82d888",
   "metadata": {},
   "outputs": [
    {
     "data": {
      "text/html": [
       "<div>\n",
       "<style scoped>\n",
       "    .dataframe tbody tr th:only-of-type {\n",
       "        vertical-align: middle;\n",
       "    }\n",
       "\n",
       "    .dataframe tbody tr th {\n",
       "        vertical-align: top;\n",
       "    }\n",
       "\n",
       "    .dataframe thead th {\n",
       "        text-align: right;\n",
       "    }\n",
       "</style>\n",
       "<table border=\"1\" class=\"dataframe\">\n",
       "  <thead>\n",
       "    <tr style=\"text-align: right;\">\n",
       "      <th></th>\n",
       "      <th>amount</th>\n",
       "      <th>oldbalanceOrg</th>\n",
       "      <th>oldbalanceDest</th>\n",
       "      <th>type_TRANSFER</th>\n",
       "      <th>type_others</th>\n",
       "    </tr>\n",
       "  </thead>\n",
       "  <tbody>\n",
       "    <tr>\n",
       "      <th>0</th>\n",
       "      <td>9840</td>\n",
       "      <td>170136</td>\n",
       "      <td>0</td>\n",
       "      <td>0</td>\n",
       "      <td>1</td>\n",
       "    </tr>\n",
       "    <tr>\n",
       "      <th>1</th>\n",
       "      <td>1864</td>\n",
       "      <td>21249</td>\n",
       "      <td>0</td>\n",
       "      <td>0</td>\n",
       "      <td>1</td>\n",
       "    </tr>\n",
       "    <tr>\n",
       "      <th>2</th>\n",
       "      <td>181</td>\n",
       "      <td>181</td>\n",
       "      <td>0</td>\n",
       "      <td>1</td>\n",
       "      <td>0</td>\n",
       "    </tr>\n",
       "    <tr>\n",
       "      <th>3</th>\n",
       "      <td>181</td>\n",
       "      <td>181</td>\n",
       "      <td>21182</td>\n",
       "      <td>0</td>\n",
       "      <td>0</td>\n",
       "    </tr>\n",
       "    <tr>\n",
       "      <th>4</th>\n",
       "      <td>11668</td>\n",
       "      <td>41554</td>\n",
       "      <td>0</td>\n",
       "      <td>0</td>\n",
       "      <td>1</td>\n",
       "    </tr>\n",
       "    <tr>\n",
       "      <th>...</th>\n",
       "      <td>...</td>\n",
       "      <td>...</td>\n",
       "      <td>...</td>\n",
       "      <td>...</td>\n",
       "      <td>...</td>\n",
       "    </tr>\n",
       "    <tr>\n",
       "      <th>6362615</th>\n",
       "      <td>339682</td>\n",
       "      <td>339682</td>\n",
       "      <td>0</td>\n",
       "      <td>0</td>\n",
       "      <td>0</td>\n",
       "    </tr>\n",
       "    <tr>\n",
       "      <th>6362616</th>\n",
       "      <td>6311409</td>\n",
       "      <td>6311409</td>\n",
       "      <td>0</td>\n",
       "      <td>1</td>\n",
       "      <td>0</td>\n",
       "    </tr>\n",
       "    <tr>\n",
       "      <th>6362617</th>\n",
       "      <td>6311409</td>\n",
       "      <td>6311409</td>\n",
       "      <td>68489</td>\n",
       "      <td>0</td>\n",
       "      <td>0</td>\n",
       "    </tr>\n",
       "    <tr>\n",
       "      <th>6362618</th>\n",
       "      <td>850003</td>\n",
       "      <td>850003</td>\n",
       "      <td>0</td>\n",
       "      <td>1</td>\n",
       "      <td>0</td>\n",
       "    </tr>\n",
       "    <tr>\n",
       "      <th>6362619</th>\n",
       "      <td>850003</td>\n",
       "      <td>850003</td>\n",
       "      <td>6510099</td>\n",
       "      <td>0</td>\n",
       "      <td>0</td>\n",
       "    </tr>\n",
       "  </tbody>\n",
       "</table>\n",
       "<p>6362620 rows × 5 columns</p>\n",
       "</div>"
      ],
      "text/plain": [
       "         amount  oldbalanceOrg  oldbalanceDest  type_TRANSFER  type_others\n",
       "0          9840         170136               0              0            1\n",
       "1          1864          21249               0              0            1\n",
       "2           181            181               0              1            0\n",
       "3           181            181           21182              0            0\n",
       "4         11668          41554               0              0            1\n",
       "...         ...            ...             ...            ...          ...\n",
       "6362615  339682         339682               0              0            0\n",
       "6362616 6311409        6311409               0              1            0\n",
       "6362617 6311409        6311409           68489              0            0\n",
       "6362618  850003         850003               0              1            0\n",
       "6362619  850003         850003         6510099              0            0\n",
       "\n",
       "[6362620 rows x 5 columns]"
      ]
     },
     "execution_count": 59,
     "metadata": {},
     "output_type": "execute_result"
    }
   ],
   "source": [
    "X"
   ]
  },
  {
   "cell_type": "code",
   "execution_count": 60,
   "id": "5d148b74",
   "metadata": {},
   "outputs": [
    {
     "data": {
      "text/plain": [
       "0          0\n",
       "1          0\n",
       "2          1\n",
       "3          1\n",
       "4          0\n",
       "          ..\n",
       "6362615    1\n",
       "6362616    1\n",
       "6362617    1\n",
       "6362618    1\n",
       "6362619    1\n",
       "Name: isFraud, Length: 6362620, dtype: int64"
      ]
     },
     "execution_count": 60,
     "metadata": {},
     "output_type": "execute_result"
    }
   ],
   "source": [
    "Y"
   ]
  },
  {
   "cell_type": "code",
   "execution_count": 61,
   "id": "a4d98b0b",
   "metadata": {},
   "outputs": [],
   "source": [
    "dt_model=DecisionTreeClassifier()"
   ]
  },
  {
   "cell_type": "code",
   "execution_count": 62,
   "id": "b82d73ac",
   "metadata": {},
   "outputs": [
    {
     "data": {
      "text/html": [
       "<style>#sk-container-id-2 {color: black;background-color: white;}#sk-container-id-2 pre{padding: 0;}#sk-container-id-2 div.sk-toggleable {background-color: white;}#sk-container-id-2 label.sk-toggleable__label {cursor: pointer;display: block;width: 100%;margin-bottom: 0;padding: 0.3em;box-sizing: border-box;text-align: center;}#sk-container-id-2 label.sk-toggleable__label-arrow:before {content: \"▸\";float: left;margin-right: 0.25em;color: #696969;}#sk-container-id-2 label.sk-toggleable__label-arrow:hover:before {color: black;}#sk-container-id-2 div.sk-estimator:hover label.sk-toggleable__label-arrow:before {color: black;}#sk-container-id-2 div.sk-toggleable__content {max-height: 0;max-width: 0;overflow: hidden;text-align: left;background-color: #f0f8ff;}#sk-container-id-2 div.sk-toggleable__content pre {margin: 0.2em;color: black;border-radius: 0.25em;background-color: #f0f8ff;}#sk-container-id-2 input.sk-toggleable__control:checked~div.sk-toggleable__content {max-height: 200px;max-width: 100%;overflow: auto;}#sk-container-id-2 input.sk-toggleable__control:checked~label.sk-toggleable__label-arrow:before {content: \"▾\";}#sk-container-id-2 div.sk-estimator input.sk-toggleable__control:checked~label.sk-toggleable__label {background-color: #d4ebff;}#sk-container-id-2 div.sk-label input.sk-toggleable__control:checked~label.sk-toggleable__label {background-color: #d4ebff;}#sk-container-id-2 input.sk-hidden--visually {border: 0;clip: rect(1px 1px 1px 1px);clip: rect(1px, 1px, 1px, 1px);height: 1px;margin: -1px;overflow: hidden;padding: 0;position: absolute;width: 1px;}#sk-container-id-2 div.sk-estimator {font-family: monospace;background-color: #f0f8ff;border: 1px dotted black;border-radius: 0.25em;box-sizing: border-box;margin-bottom: 0.5em;}#sk-container-id-2 div.sk-estimator:hover {background-color: #d4ebff;}#sk-container-id-2 div.sk-parallel-item::after {content: \"\";width: 100%;border-bottom: 1px solid gray;flex-grow: 1;}#sk-container-id-2 div.sk-label:hover label.sk-toggleable__label {background-color: #d4ebff;}#sk-container-id-2 div.sk-serial::before {content: \"\";position: absolute;border-left: 1px solid gray;box-sizing: border-box;top: 0;bottom: 0;left: 50%;z-index: 0;}#sk-container-id-2 div.sk-serial {display: flex;flex-direction: column;align-items: center;background-color: white;padding-right: 0.2em;padding-left: 0.2em;position: relative;}#sk-container-id-2 div.sk-item {position: relative;z-index: 1;}#sk-container-id-2 div.sk-parallel {display: flex;align-items: stretch;justify-content: center;background-color: white;position: relative;}#sk-container-id-2 div.sk-item::before, #sk-container-id-2 div.sk-parallel-item::before {content: \"\";position: absolute;border-left: 1px solid gray;box-sizing: border-box;top: 0;bottom: 0;left: 50%;z-index: -1;}#sk-container-id-2 div.sk-parallel-item {display: flex;flex-direction: column;z-index: 1;position: relative;background-color: white;}#sk-container-id-2 div.sk-parallel-item:first-child::after {align-self: flex-end;width: 50%;}#sk-container-id-2 div.sk-parallel-item:last-child::after {align-self: flex-start;width: 50%;}#sk-container-id-2 div.sk-parallel-item:only-child::after {width: 0;}#sk-container-id-2 div.sk-dashed-wrapped {border: 1px dashed gray;margin: 0 0.4em 0.5em 0.4em;box-sizing: border-box;padding-bottom: 0.4em;background-color: white;}#sk-container-id-2 div.sk-label label {font-family: monospace;font-weight: bold;display: inline-block;line-height: 1.2em;}#sk-container-id-2 div.sk-label-container {text-align: center;}#sk-container-id-2 div.sk-container {/* jupyter's `normalize.less` sets `[hidden] { display: none; }` but bootstrap.min.css set `[hidden] { display: none !important; }` so we also need the `!important` here to be able to override the default hidden behavior on the sphinx rendered scikit-learn.org. See: https://github.com/scikit-learn/scikit-learn/issues/21755 */display: inline-block !important;position: relative;}#sk-container-id-2 div.sk-text-repr-fallback {display: none;}</style><div id=\"sk-container-id-2\" class=\"sk-top-container\"><div class=\"sk-text-repr-fallback\"><pre>DecisionTreeClassifier()</pre><b>In a Jupyter environment, please rerun this cell to show the HTML representation or trust the notebook. <br />On GitHub, the HTML representation is unable to render, please try loading this page with nbviewer.org.</b></div><div class=\"sk-container\" hidden><div class=\"sk-item\"><div class=\"sk-estimator sk-toggleable\"><input class=\"sk-toggleable__control sk-hidden--visually\" id=\"sk-estimator-id-2\" type=\"checkbox\" checked><label for=\"sk-estimator-id-2\" class=\"sk-toggleable__label sk-toggleable__label-arrow\">DecisionTreeClassifier</label><div class=\"sk-toggleable__content\"><pre>DecisionTreeClassifier()</pre></div></div></div></div></div>"
      ],
      "text/plain": [
       "DecisionTreeClassifier()"
      ]
     },
     "execution_count": 62,
     "metadata": {},
     "output_type": "execute_result"
    }
   ],
   "source": [
    "dt_model.fit(X_train,Y_train)"
   ]
  },
  {
   "cell_type": "code",
   "execution_count": 63,
   "id": "6300e3a8",
   "metadata": {},
   "outputs": [],
   "source": [
    "Y_pred_dt=dt_model.predict(X_test)"
   ]
  },
  {
   "cell_type": "code",
   "execution_count": 64,
   "id": "cacdf619",
   "metadata": {},
   "outputs": [],
   "source": [
    "accuracy_dt=accuracy_score(Y_test,Y_pred_dt)"
   ]
  },
  {
   "cell_type": "code",
   "execution_count": 65,
   "id": "be7a8e54",
   "metadata": {},
   "outputs": [
    {
     "data": {
      "text/plain": [
       "0.9993875688526634"
      ]
     },
     "execution_count": 65,
     "metadata": {},
     "output_type": "execute_result"
    }
   ],
   "source": [
    "accuracy_dt"
   ]
  },
  {
   "cell_type": "code",
   "execution_count": 66,
   "id": "d92a9ed3",
   "metadata": {},
   "outputs": [],
   "source": [
    "cm_dt= confusion_matrix(Y_test,Y_pred_dt)"
   ]
  },
  {
   "cell_type": "code",
   "execution_count": 67,
   "id": "1a47a634",
   "metadata": {},
   "outputs": [
    {
     "name": "stdout",
     "output_type": "stream",
     "text": [
      "[[1905704     647]\n",
      " [    522    1913]]\n"
     ]
    }
   ],
   "source": [
    "print(cm_dt)"
   ]
  },
  {
   "cell_type": "code",
   "execution_count": 73,
   "id": "e3ce8311",
   "metadata": {},
   "outputs": [],
   "source": [
    "from sklearn.metrics import classification_report\n",
    "cl_rp_dt = (classification_report(Y_test, Y_pred_dt))"
   ]
  },
  {
   "cell_type": "code",
   "execution_count": 74,
   "id": "c669f03b",
   "metadata": {},
   "outputs": [
    {
     "name": "stdout",
     "output_type": "stream",
     "text": [
      "              precision    recall  f1-score   support\n",
      "\n",
      "           0       1.00      1.00      1.00   1906351\n",
      "           1       0.75      0.79      0.77      2435\n",
      "\n",
      "    accuracy                           1.00   1908786\n",
      "   macro avg       0.87      0.89      0.88   1908786\n",
      "weighted avg       1.00      1.00      1.00   1908786\n",
      "\n"
     ]
    }
   ],
   "source": [
    "print(cl_rp_dt)"
   ]
  },
  {
   "cell_type": "code",
   "execution_count": 71,
   "id": "273e4bc3",
   "metadata": {},
   "outputs": [],
   "source": [
    "#precision recall and f1 score has increased from linear regression."
   ]
  },
  {
   "cell_type": "code",
   "execution_count": 75,
   "id": "ab2d80ae",
   "metadata": {},
   "outputs": [],
   "source": [
    "rf_model =RandomForestClassifier()"
   ]
  },
  {
   "cell_type": "code",
   "execution_count": 76,
   "id": "86d50030",
   "metadata": {},
   "outputs": [
    {
     "data": {
      "text/html": [
       "<style>#sk-container-id-3 {color: black;background-color: white;}#sk-container-id-3 pre{padding: 0;}#sk-container-id-3 div.sk-toggleable {background-color: white;}#sk-container-id-3 label.sk-toggleable__label {cursor: pointer;display: block;width: 100%;margin-bottom: 0;padding: 0.3em;box-sizing: border-box;text-align: center;}#sk-container-id-3 label.sk-toggleable__label-arrow:before {content: \"▸\";float: left;margin-right: 0.25em;color: #696969;}#sk-container-id-3 label.sk-toggleable__label-arrow:hover:before {color: black;}#sk-container-id-3 div.sk-estimator:hover label.sk-toggleable__label-arrow:before {color: black;}#sk-container-id-3 div.sk-toggleable__content {max-height: 0;max-width: 0;overflow: hidden;text-align: left;background-color: #f0f8ff;}#sk-container-id-3 div.sk-toggleable__content pre {margin: 0.2em;color: black;border-radius: 0.25em;background-color: #f0f8ff;}#sk-container-id-3 input.sk-toggleable__control:checked~div.sk-toggleable__content {max-height: 200px;max-width: 100%;overflow: auto;}#sk-container-id-3 input.sk-toggleable__control:checked~label.sk-toggleable__label-arrow:before {content: \"▾\";}#sk-container-id-3 div.sk-estimator input.sk-toggleable__control:checked~label.sk-toggleable__label {background-color: #d4ebff;}#sk-container-id-3 div.sk-label input.sk-toggleable__control:checked~label.sk-toggleable__label {background-color: #d4ebff;}#sk-container-id-3 input.sk-hidden--visually {border: 0;clip: rect(1px 1px 1px 1px);clip: rect(1px, 1px, 1px, 1px);height: 1px;margin: -1px;overflow: hidden;padding: 0;position: absolute;width: 1px;}#sk-container-id-3 div.sk-estimator {font-family: monospace;background-color: #f0f8ff;border: 1px dotted black;border-radius: 0.25em;box-sizing: border-box;margin-bottom: 0.5em;}#sk-container-id-3 div.sk-estimator:hover {background-color: #d4ebff;}#sk-container-id-3 div.sk-parallel-item::after {content: \"\";width: 100%;border-bottom: 1px solid gray;flex-grow: 1;}#sk-container-id-3 div.sk-label:hover label.sk-toggleable__label {background-color: #d4ebff;}#sk-container-id-3 div.sk-serial::before {content: \"\";position: absolute;border-left: 1px solid gray;box-sizing: border-box;top: 0;bottom: 0;left: 50%;z-index: 0;}#sk-container-id-3 div.sk-serial {display: flex;flex-direction: column;align-items: center;background-color: white;padding-right: 0.2em;padding-left: 0.2em;position: relative;}#sk-container-id-3 div.sk-item {position: relative;z-index: 1;}#sk-container-id-3 div.sk-parallel {display: flex;align-items: stretch;justify-content: center;background-color: white;position: relative;}#sk-container-id-3 div.sk-item::before, #sk-container-id-3 div.sk-parallel-item::before {content: \"\";position: absolute;border-left: 1px solid gray;box-sizing: border-box;top: 0;bottom: 0;left: 50%;z-index: -1;}#sk-container-id-3 div.sk-parallel-item {display: flex;flex-direction: column;z-index: 1;position: relative;background-color: white;}#sk-container-id-3 div.sk-parallel-item:first-child::after {align-self: flex-end;width: 50%;}#sk-container-id-3 div.sk-parallel-item:last-child::after {align-self: flex-start;width: 50%;}#sk-container-id-3 div.sk-parallel-item:only-child::after {width: 0;}#sk-container-id-3 div.sk-dashed-wrapped {border: 1px dashed gray;margin: 0 0.4em 0.5em 0.4em;box-sizing: border-box;padding-bottom: 0.4em;background-color: white;}#sk-container-id-3 div.sk-label label {font-family: monospace;font-weight: bold;display: inline-block;line-height: 1.2em;}#sk-container-id-3 div.sk-label-container {text-align: center;}#sk-container-id-3 div.sk-container {/* jupyter's `normalize.less` sets `[hidden] { display: none; }` but bootstrap.min.css set `[hidden] { display: none !important; }` so we also need the `!important` here to be able to override the default hidden behavior on the sphinx rendered scikit-learn.org. See: https://github.com/scikit-learn/scikit-learn/issues/21755 */display: inline-block !important;position: relative;}#sk-container-id-3 div.sk-text-repr-fallback {display: none;}</style><div id=\"sk-container-id-3\" class=\"sk-top-container\"><div class=\"sk-text-repr-fallback\"><pre>RandomForestClassifier()</pre><b>In a Jupyter environment, please rerun this cell to show the HTML representation or trust the notebook. <br />On GitHub, the HTML representation is unable to render, please try loading this page with nbviewer.org.</b></div><div class=\"sk-container\" hidden><div class=\"sk-item\"><div class=\"sk-estimator sk-toggleable\"><input class=\"sk-toggleable__control sk-hidden--visually\" id=\"sk-estimator-id-3\" type=\"checkbox\" checked><label for=\"sk-estimator-id-3\" class=\"sk-toggleable__label sk-toggleable__label-arrow\">RandomForestClassifier</label><div class=\"sk-toggleable__content\"><pre>RandomForestClassifier()</pre></div></div></div></div></div>"
      ],
      "text/plain": [
       "RandomForestClassifier()"
      ]
     },
     "execution_count": 76,
     "metadata": {},
     "output_type": "execute_result"
    }
   ],
   "source": [
    "rf_model.fit(X_train,Y_train)"
   ]
  },
  {
   "cell_type": "code",
   "execution_count": 78,
   "id": "1462ce99",
   "metadata": {},
   "outputs": [],
   "source": [
    "Y_pred_rf=rf_model.predict(X_test)"
   ]
  },
  {
   "cell_type": "code",
   "execution_count": 79,
   "id": "29b36c02",
   "metadata": {},
   "outputs": [],
   "source": [
    "accuracy_rf=accuracy_score(Y_test,Y_pred_rf)"
   ]
  },
  {
   "cell_type": "code",
   "execution_count": 80,
   "id": "1a0604a3",
   "metadata": {},
   "outputs": [
    {
     "data": {
      "text/plain": [
       "0.9995751226172027"
      ]
     },
     "execution_count": 80,
     "metadata": {},
     "output_type": "execute_result"
    }
   ],
   "source": [
    "accuracy_rf"
   ]
  },
  {
   "cell_type": "code",
   "execution_count": 81,
   "id": "d6d07e9e",
   "metadata": {},
   "outputs": [],
   "source": [
    "cm_rf= confusion_matrix(Y_test,Y_pred_rf)"
   ]
  },
  {
   "cell_type": "code",
   "execution_count": 82,
   "id": "f8d28092",
   "metadata": {},
   "outputs": [
    {
     "data": {
      "text/plain": [
       "array([[1906193,     158],\n",
       "       [    653,    1782]], dtype=int64)"
      ]
     },
     "execution_count": 82,
     "metadata": {},
     "output_type": "execute_result"
    }
   ],
   "source": [
    "cm_rf"
   ]
  },
  {
   "cell_type": "code",
   "execution_count": 83,
   "id": "2495738b",
   "metadata": {},
   "outputs": [],
   "source": [
    "#this is comparitively good model for our business problem statement as people who were actually fraud and predicted not fraud are reduced.it reduced potential financial loss ."
   ]
  },
  {
   "cell_type": "code",
   "execution_count": 117,
   "id": "05e250fc",
   "metadata": {},
   "outputs": [],
   "source": [
    "from sklearn.metrics import classification_report\n",
    "cl_rp_rf = (classification_report(Y_test, Y_pred_rf))"
   ]
  },
  {
   "cell_type": "code",
   "execution_count": 85,
   "id": "4ee1f1b2",
   "metadata": {},
   "outputs": [
    {
     "name": "stdout",
     "output_type": "stream",
     "text": [
      "              precision    recall  f1-score   support\n",
      "\n",
      "           0       1.00      1.00      1.00   1906351\n",
      "           1       0.92      0.73      0.81      2435\n",
      "\n",
      "    accuracy                           1.00   1908786\n",
      "   macro avg       0.96      0.87      0.91   1908786\n",
      "weighted avg       1.00      1.00      1.00   1908786\n",
      "\n"
     ]
    }
   ],
   "source": [
    "print(cl_rp_rf)"
   ]
  },
  {
   "cell_type": "code",
   "execution_count": 86,
   "id": "7515d8ad",
   "metadata": {},
   "outputs": [],
   "source": [
    "#precision f1 score has increased significantly."
   ]
  },
  {
   "cell_type": "code",
   "execution_count": 87,
   "id": "efe51d0b",
   "metadata": {},
   "outputs": [],
   "source": [
    "ab_model=AdaBoostClassifier()"
   ]
  },
  {
   "cell_type": "code",
   "execution_count": 88,
   "id": "f61d9306",
   "metadata": {},
   "outputs": [
    {
     "data": {
      "text/html": [
       "<style>#sk-container-id-4 {color: black;background-color: white;}#sk-container-id-4 pre{padding: 0;}#sk-container-id-4 div.sk-toggleable {background-color: white;}#sk-container-id-4 label.sk-toggleable__label {cursor: pointer;display: block;width: 100%;margin-bottom: 0;padding: 0.3em;box-sizing: border-box;text-align: center;}#sk-container-id-4 label.sk-toggleable__label-arrow:before {content: \"▸\";float: left;margin-right: 0.25em;color: #696969;}#sk-container-id-4 label.sk-toggleable__label-arrow:hover:before {color: black;}#sk-container-id-4 div.sk-estimator:hover label.sk-toggleable__label-arrow:before {color: black;}#sk-container-id-4 div.sk-toggleable__content {max-height: 0;max-width: 0;overflow: hidden;text-align: left;background-color: #f0f8ff;}#sk-container-id-4 div.sk-toggleable__content pre {margin: 0.2em;color: black;border-radius: 0.25em;background-color: #f0f8ff;}#sk-container-id-4 input.sk-toggleable__control:checked~div.sk-toggleable__content {max-height: 200px;max-width: 100%;overflow: auto;}#sk-container-id-4 input.sk-toggleable__control:checked~label.sk-toggleable__label-arrow:before {content: \"▾\";}#sk-container-id-4 div.sk-estimator input.sk-toggleable__control:checked~label.sk-toggleable__label {background-color: #d4ebff;}#sk-container-id-4 div.sk-label input.sk-toggleable__control:checked~label.sk-toggleable__label {background-color: #d4ebff;}#sk-container-id-4 input.sk-hidden--visually {border: 0;clip: rect(1px 1px 1px 1px);clip: rect(1px, 1px, 1px, 1px);height: 1px;margin: -1px;overflow: hidden;padding: 0;position: absolute;width: 1px;}#sk-container-id-4 div.sk-estimator {font-family: monospace;background-color: #f0f8ff;border: 1px dotted black;border-radius: 0.25em;box-sizing: border-box;margin-bottom: 0.5em;}#sk-container-id-4 div.sk-estimator:hover {background-color: #d4ebff;}#sk-container-id-4 div.sk-parallel-item::after {content: \"\";width: 100%;border-bottom: 1px solid gray;flex-grow: 1;}#sk-container-id-4 div.sk-label:hover label.sk-toggleable__label {background-color: #d4ebff;}#sk-container-id-4 div.sk-serial::before {content: \"\";position: absolute;border-left: 1px solid gray;box-sizing: border-box;top: 0;bottom: 0;left: 50%;z-index: 0;}#sk-container-id-4 div.sk-serial {display: flex;flex-direction: column;align-items: center;background-color: white;padding-right: 0.2em;padding-left: 0.2em;position: relative;}#sk-container-id-4 div.sk-item {position: relative;z-index: 1;}#sk-container-id-4 div.sk-parallel {display: flex;align-items: stretch;justify-content: center;background-color: white;position: relative;}#sk-container-id-4 div.sk-item::before, #sk-container-id-4 div.sk-parallel-item::before {content: \"\";position: absolute;border-left: 1px solid gray;box-sizing: border-box;top: 0;bottom: 0;left: 50%;z-index: -1;}#sk-container-id-4 div.sk-parallel-item {display: flex;flex-direction: column;z-index: 1;position: relative;background-color: white;}#sk-container-id-4 div.sk-parallel-item:first-child::after {align-self: flex-end;width: 50%;}#sk-container-id-4 div.sk-parallel-item:last-child::after {align-self: flex-start;width: 50%;}#sk-container-id-4 div.sk-parallel-item:only-child::after {width: 0;}#sk-container-id-4 div.sk-dashed-wrapped {border: 1px dashed gray;margin: 0 0.4em 0.5em 0.4em;box-sizing: border-box;padding-bottom: 0.4em;background-color: white;}#sk-container-id-4 div.sk-label label {font-family: monospace;font-weight: bold;display: inline-block;line-height: 1.2em;}#sk-container-id-4 div.sk-label-container {text-align: center;}#sk-container-id-4 div.sk-container {/* jupyter's `normalize.less` sets `[hidden] { display: none; }` but bootstrap.min.css set `[hidden] { display: none !important; }` so we also need the `!important` here to be able to override the default hidden behavior on the sphinx rendered scikit-learn.org. See: https://github.com/scikit-learn/scikit-learn/issues/21755 */display: inline-block !important;position: relative;}#sk-container-id-4 div.sk-text-repr-fallback {display: none;}</style><div id=\"sk-container-id-4\" class=\"sk-top-container\"><div class=\"sk-text-repr-fallback\"><pre>AdaBoostClassifier()</pre><b>In a Jupyter environment, please rerun this cell to show the HTML representation or trust the notebook. <br />On GitHub, the HTML representation is unable to render, please try loading this page with nbviewer.org.</b></div><div class=\"sk-container\" hidden><div class=\"sk-item\"><div class=\"sk-estimator sk-toggleable\"><input class=\"sk-toggleable__control sk-hidden--visually\" id=\"sk-estimator-id-4\" type=\"checkbox\" checked><label for=\"sk-estimator-id-4\" class=\"sk-toggleable__label sk-toggleable__label-arrow\">AdaBoostClassifier</label><div class=\"sk-toggleable__content\"><pre>AdaBoostClassifier()</pre></div></div></div></div></div>"
      ],
      "text/plain": [
       "AdaBoostClassifier()"
      ]
     },
     "execution_count": 88,
     "metadata": {},
     "output_type": "execute_result"
    }
   ],
   "source": [
    "ab_model.fit(X_train,Y_train)"
   ]
  },
  {
   "cell_type": "code",
   "execution_count": 89,
   "id": "947d7dfe",
   "metadata": {},
   "outputs": [],
   "source": [
    "Y_pred_ab=ab_model.predict(X_test)\n",
    "accuracy_ab=accuracy_score(Y_test,Y_pred_ab)"
   ]
  },
  {
   "cell_type": "code",
   "execution_count": 90,
   "id": "bdd83c63",
   "metadata": {},
   "outputs": [
    {
     "data": {
      "text/plain": [
       "0.998902967645404"
      ]
     },
     "execution_count": 90,
     "metadata": {},
     "output_type": "execute_result"
    }
   ],
   "source": [
    "accuracy_ab"
   ]
  },
  {
   "cell_type": "code",
   "execution_count": 115,
   "id": "aa49a7df",
   "metadata": {},
   "outputs": [],
   "source": [
    "cm_ab= confusion_matrix(Y_test,Y_pred_ab)"
   ]
  },
  {
   "cell_type": "code",
   "execution_count": 116,
   "id": "c2e157a4",
   "metadata": {},
   "outputs": [
    {
     "data": {
      "text/plain": [
       "array([[1906144,     207],\n",
       "       [   1887,     548]], dtype=int64)"
      ]
     },
     "execution_count": 116,
     "metadata": {},
     "output_type": "execute_result"
    }
   ],
   "source": [
    "cm_rf"
   ]
  },
  {
   "cell_type": "code",
   "execution_count": 91,
   "id": "10ce6429",
   "metadata": {},
   "outputs": [],
   "source": [
    "cl_rp_ab = (classification_report(Y_test, Y_pred_ab))"
   ]
  },
  {
   "cell_type": "code",
   "execution_count": 92,
   "id": "ff9b7c4f",
   "metadata": {},
   "outputs": [
    {
     "name": "stdout",
     "output_type": "stream",
     "text": [
      "              precision    recall  f1-score   support\n",
      "\n",
      "           0       1.00      1.00      1.00   1906351\n",
      "           1       0.73      0.23      0.34      2435\n",
      "\n",
      "    accuracy                           1.00   1908786\n",
      "   macro avg       0.86      0.61      0.67   1908786\n",
      "weighted avg       1.00      1.00      1.00   1908786\n",
      "\n"
     ]
    }
   ],
   "source": [
    "print(cl_rp_ab )"
   ]
  },
  {
   "cell_type": "code",
   "execution_count": 94,
   "id": "11554ef0",
   "metadata": {},
   "outputs": [],
   "source": [
    "#recall and f1 score has reduced. so not good."
   ]
  },
  {
   "cell_type": "code",
   "execution_count": 98,
   "id": "2c27e17b",
   "metadata": {},
   "outputs": [],
   "source": [
    "# now using bagging classifier"
   ]
  },
  {
   "cell_type": "code",
   "execution_count": 99,
   "id": "4325a0b1",
   "metadata": {},
   "outputs": [],
   "source": [
    "from sklearn.ensemble import BaggingClassifier"
   ]
  },
  {
   "cell_type": "code",
   "execution_count": 100,
   "id": "9ba22efe",
   "metadata": {},
   "outputs": [],
   "source": [
    "bc_model=BaggingClassifier()"
   ]
  },
  {
   "cell_type": "code",
   "execution_count": 101,
   "id": "15b7dc50",
   "metadata": {},
   "outputs": [
    {
     "data": {
      "text/html": [
       "<style>#sk-container-id-5 {color: black;background-color: white;}#sk-container-id-5 pre{padding: 0;}#sk-container-id-5 div.sk-toggleable {background-color: white;}#sk-container-id-5 label.sk-toggleable__label {cursor: pointer;display: block;width: 100%;margin-bottom: 0;padding: 0.3em;box-sizing: border-box;text-align: center;}#sk-container-id-5 label.sk-toggleable__label-arrow:before {content: \"▸\";float: left;margin-right: 0.25em;color: #696969;}#sk-container-id-5 label.sk-toggleable__label-arrow:hover:before {color: black;}#sk-container-id-5 div.sk-estimator:hover label.sk-toggleable__label-arrow:before {color: black;}#sk-container-id-5 div.sk-toggleable__content {max-height: 0;max-width: 0;overflow: hidden;text-align: left;background-color: #f0f8ff;}#sk-container-id-5 div.sk-toggleable__content pre {margin: 0.2em;color: black;border-radius: 0.25em;background-color: #f0f8ff;}#sk-container-id-5 input.sk-toggleable__control:checked~div.sk-toggleable__content {max-height: 200px;max-width: 100%;overflow: auto;}#sk-container-id-5 input.sk-toggleable__control:checked~label.sk-toggleable__label-arrow:before {content: \"▾\";}#sk-container-id-5 div.sk-estimator input.sk-toggleable__control:checked~label.sk-toggleable__label {background-color: #d4ebff;}#sk-container-id-5 div.sk-label input.sk-toggleable__control:checked~label.sk-toggleable__label {background-color: #d4ebff;}#sk-container-id-5 input.sk-hidden--visually {border: 0;clip: rect(1px 1px 1px 1px);clip: rect(1px, 1px, 1px, 1px);height: 1px;margin: -1px;overflow: hidden;padding: 0;position: absolute;width: 1px;}#sk-container-id-5 div.sk-estimator {font-family: monospace;background-color: #f0f8ff;border: 1px dotted black;border-radius: 0.25em;box-sizing: border-box;margin-bottom: 0.5em;}#sk-container-id-5 div.sk-estimator:hover {background-color: #d4ebff;}#sk-container-id-5 div.sk-parallel-item::after {content: \"\";width: 100%;border-bottom: 1px solid gray;flex-grow: 1;}#sk-container-id-5 div.sk-label:hover label.sk-toggleable__label {background-color: #d4ebff;}#sk-container-id-5 div.sk-serial::before {content: \"\";position: absolute;border-left: 1px solid gray;box-sizing: border-box;top: 0;bottom: 0;left: 50%;z-index: 0;}#sk-container-id-5 div.sk-serial {display: flex;flex-direction: column;align-items: center;background-color: white;padding-right: 0.2em;padding-left: 0.2em;position: relative;}#sk-container-id-5 div.sk-item {position: relative;z-index: 1;}#sk-container-id-5 div.sk-parallel {display: flex;align-items: stretch;justify-content: center;background-color: white;position: relative;}#sk-container-id-5 div.sk-item::before, #sk-container-id-5 div.sk-parallel-item::before {content: \"\";position: absolute;border-left: 1px solid gray;box-sizing: border-box;top: 0;bottom: 0;left: 50%;z-index: -1;}#sk-container-id-5 div.sk-parallel-item {display: flex;flex-direction: column;z-index: 1;position: relative;background-color: white;}#sk-container-id-5 div.sk-parallel-item:first-child::after {align-self: flex-end;width: 50%;}#sk-container-id-5 div.sk-parallel-item:last-child::after {align-self: flex-start;width: 50%;}#sk-container-id-5 div.sk-parallel-item:only-child::after {width: 0;}#sk-container-id-5 div.sk-dashed-wrapped {border: 1px dashed gray;margin: 0 0.4em 0.5em 0.4em;box-sizing: border-box;padding-bottom: 0.4em;background-color: white;}#sk-container-id-5 div.sk-label label {font-family: monospace;font-weight: bold;display: inline-block;line-height: 1.2em;}#sk-container-id-5 div.sk-label-container {text-align: center;}#sk-container-id-5 div.sk-container {/* jupyter's `normalize.less` sets `[hidden] { display: none; }` but bootstrap.min.css set `[hidden] { display: none !important; }` so we also need the `!important` here to be able to override the default hidden behavior on the sphinx rendered scikit-learn.org. See: https://github.com/scikit-learn/scikit-learn/issues/21755 */display: inline-block !important;position: relative;}#sk-container-id-5 div.sk-text-repr-fallback {display: none;}</style><div id=\"sk-container-id-5\" class=\"sk-top-container\"><div class=\"sk-text-repr-fallback\"><pre>BaggingClassifier()</pre><b>In a Jupyter environment, please rerun this cell to show the HTML representation or trust the notebook. <br />On GitHub, the HTML representation is unable to render, please try loading this page with nbviewer.org.</b></div><div class=\"sk-container\" hidden><div class=\"sk-item\"><div class=\"sk-estimator sk-toggleable\"><input class=\"sk-toggleable__control sk-hidden--visually\" id=\"sk-estimator-id-5\" type=\"checkbox\" checked><label for=\"sk-estimator-id-5\" class=\"sk-toggleable__label sk-toggleable__label-arrow\">BaggingClassifier</label><div class=\"sk-toggleable__content\"><pre>BaggingClassifier()</pre></div></div></div></div></div>"
      ],
      "text/plain": [
       "BaggingClassifier()"
      ]
     },
     "execution_count": 101,
     "metadata": {},
     "output_type": "execute_result"
    }
   ],
   "source": [
    "bc_model.fit(X_train,Y_train)"
   ]
  },
  {
   "cell_type": "code",
   "execution_count": 140,
   "id": "9c92b363",
   "metadata": {},
   "outputs": [],
   "source": [
    "cm_bc= confusion_matrix(Y_test,Y_pred_bc)"
   ]
  },
  {
   "cell_type": "code",
   "execution_count": 141,
   "id": "01126921",
   "metadata": {},
   "outputs": [
    {
     "data": {
      "text/plain": [
       "array([[1906168,     183],\n",
       "       [    601,    1834]], dtype=int64)"
      ]
     },
     "execution_count": 141,
     "metadata": {},
     "output_type": "execute_result"
    }
   ],
   "source": [
    "cm_bc"
   ]
  },
  {
   "cell_type": "code",
   "execution_count": 102,
   "id": "44dd21a2",
   "metadata": {},
   "outputs": [
    {
     "name": "stdout",
     "output_type": "stream",
     "text": [
      "0.9995892677335227\n"
     ]
    }
   ],
   "source": [
    "Y_pred_bc= bc_model.predict(X_test)\n",
    "accuracy_bc = accuracy_score(Y_test,Y_pred_bc)\n",
    "print(accuracy_bc)"
   ]
  },
  {
   "cell_type": "code",
   "execution_count": 103,
   "id": "9498c182",
   "metadata": {},
   "outputs": [
    {
     "name": "stdout",
     "output_type": "stream",
     "text": [
      "              precision    recall  f1-score   support\n",
      "\n",
      "           0       1.00      1.00      1.00   1906351\n",
      "           1       0.91      0.75      0.82      2435\n",
      "\n",
      "    accuracy                           1.00   1908786\n",
      "   macro avg       0.95      0.88      0.91   1908786\n",
      "weighted avg       1.00      1.00      1.00   1908786\n",
      "\n"
     ]
    }
   ],
   "source": [
    "cl_rp_bc=classification_report(Y_test,Y_pred_bc)\n",
    "print(cl_rp_bc)"
   ]
  },
  {
   "cell_type": "code",
   "execution_count": 107,
   "id": "a3206eeb",
   "metadata": {},
   "outputs": [],
   "source": [
    "#f1 score is slightly better then random forest"
   ]
  },
  {
   "cell_type": "code",
   "execution_count": 108,
   "id": "723c8a15",
   "metadata": {},
   "outputs": [],
   "source": [
    "from sklearn.ensemble import GradientBoostingClassifier"
   ]
  },
  {
   "cell_type": "code",
   "execution_count": 109,
   "id": "5ef2f6fa",
   "metadata": {},
   "outputs": [],
   "source": [
    "gb_model  = GradientBoostingClassifier()"
   ]
  },
  {
   "cell_type": "code",
   "execution_count": 110,
   "id": "b7ac01a6",
   "metadata": {},
   "outputs": [
    {
     "data": {
      "text/html": [
       "<style>#sk-container-id-6 {color: black;background-color: white;}#sk-container-id-6 pre{padding: 0;}#sk-container-id-6 div.sk-toggleable {background-color: white;}#sk-container-id-6 label.sk-toggleable__label {cursor: pointer;display: block;width: 100%;margin-bottom: 0;padding: 0.3em;box-sizing: border-box;text-align: center;}#sk-container-id-6 label.sk-toggleable__label-arrow:before {content: \"▸\";float: left;margin-right: 0.25em;color: #696969;}#sk-container-id-6 label.sk-toggleable__label-arrow:hover:before {color: black;}#sk-container-id-6 div.sk-estimator:hover label.sk-toggleable__label-arrow:before {color: black;}#sk-container-id-6 div.sk-toggleable__content {max-height: 0;max-width: 0;overflow: hidden;text-align: left;background-color: #f0f8ff;}#sk-container-id-6 div.sk-toggleable__content pre {margin: 0.2em;color: black;border-radius: 0.25em;background-color: #f0f8ff;}#sk-container-id-6 input.sk-toggleable__control:checked~div.sk-toggleable__content {max-height: 200px;max-width: 100%;overflow: auto;}#sk-container-id-6 input.sk-toggleable__control:checked~label.sk-toggleable__label-arrow:before {content: \"▾\";}#sk-container-id-6 div.sk-estimator input.sk-toggleable__control:checked~label.sk-toggleable__label {background-color: #d4ebff;}#sk-container-id-6 div.sk-label input.sk-toggleable__control:checked~label.sk-toggleable__label {background-color: #d4ebff;}#sk-container-id-6 input.sk-hidden--visually {border: 0;clip: rect(1px 1px 1px 1px);clip: rect(1px, 1px, 1px, 1px);height: 1px;margin: -1px;overflow: hidden;padding: 0;position: absolute;width: 1px;}#sk-container-id-6 div.sk-estimator {font-family: monospace;background-color: #f0f8ff;border: 1px dotted black;border-radius: 0.25em;box-sizing: border-box;margin-bottom: 0.5em;}#sk-container-id-6 div.sk-estimator:hover {background-color: #d4ebff;}#sk-container-id-6 div.sk-parallel-item::after {content: \"\";width: 100%;border-bottom: 1px solid gray;flex-grow: 1;}#sk-container-id-6 div.sk-label:hover label.sk-toggleable__label {background-color: #d4ebff;}#sk-container-id-6 div.sk-serial::before {content: \"\";position: absolute;border-left: 1px solid gray;box-sizing: border-box;top: 0;bottom: 0;left: 50%;z-index: 0;}#sk-container-id-6 div.sk-serial {display: flex;flex-direction: column;align-items: center;background-color: white;padding-right: 0.2em;padding-left: 0.2em;position: relative;}#sk-container-id-6 div.sk-item {position: relative;z-index: 1;}#sk-container-id-6 div.sk-parallel {display: flex;align-items: stretch;justify-content: center;background-color: white;position: relative;}#sk-container-id-6 div.sk-item::before, #sk-container-id-6 div.sk-parallel-item::before {content: \"\";position: absolute;border-left: 1px solid gray;box-sizing: border-box;top: 0;bottom: 0;left: 50%;z-index: -1;}#sk-container-id-6 div.sk-parallel-item {display: flex;flex-direction: column;z-index: 1;position: relative;background-color: white;}#sk-container-id-6 div.sk-parallel-item:first-child::after {align-self: flex-end;width: 50%;}#sk-container-id-6 div.sk-parallel-item:last-child::after {align-self: flex-start;width: 50%;}#sk-container-id-6 div.sk-parallel-item:only-child::after {width: 0;}#sk-container-id-6 div.sk-dashed-wrapped {border: 1px dashed gray;margin: 0 0.4em 0.5em 0.4em;box-sizing: border-box;padding-bottom: 0.4em;background-color: white;}#sk-container-id-6 div.sk-label label {font-family: monospace;font-weight: bold;display: inline-block;line-height: 1.2em;}#sk-container-id-6 div.sk-label-container {text-align: center;}#sk-container-id-6 div.sk-container {/* jupyter's `normalize.less` sets `[hidden] { display: none; }` but bootstrap.min.css set `[hidden] { display: none !important; }` so we also need the `!important` here to be able to override the default hidden behavior on the sphinx rendered scikit-learn.org. See: https://github.com/scikit-learn/scikit-learn/issues/21755 */display: inline-block !important;position: relative;}#sk-container-id-6 div.sk-text-repr-fallback {display: none;}</style><div id=\"sk-container-id-6\" class=\"sk-top-container\"><div class=\"sk-text-repr-fallback\"><pre>GradientBoostingClassifier()</pre><b>In a Jupyter environment, please rerun this cell to show the HTML representation or trust the notebook. <br />On GitHub, the HTML representation is unable to render, please try loading this page with nbviewer.org.</b></div><div class=\"sk-container\" hidden><div class=\"sk-item\"><div class=\"sk-estimator sk-toggleable\"><input class=\"sk-toggleable__control sk-hidden--visually\" id=\"sk-estimator-id-6\" type=\"checkbox\" checked><label for=\"sk-estimator-id-6\" class=\"sk-toggleable__label sk-toggleable__label-arrow\">GradientBoostingClassifier</label><div class=\"sk-toggleable__content\"><pre>GradientBoostingClassifier()</pre></div></div></div></div></div>"
      ],
      "text/plain": [
       "GradientBoostingClassifier()"
      ]
     },
     "execution_count": 110,
     "metadata": {},
     "output_type": "execute_result"
    }
   ],
   "source": [
    "gb_model.fit(X_train,Y_train)"
   ]
  },
  {
   "cell_type": "code",
   "execution_count": 111,
   "id": "d37a72cb",
   "metadata": {},
   "outputs": [
    {
     "name": "stdout",
     "output_type": "stream",
     "text": [
      "0.9987264156380024\n"
     ]
    }
   ],
   "source": [
    "Y_pred_gb=gb_model.predict(X_test)\n",
    "accuracy_gb=accuracy_score(Y_test,Y_pred_gb)\n",
    "print(accuracy_gb)"
   ]
  },
  {
   "cell_type": "code",
   "execution_count": 112,
   "id": "11735f3f",
   "metadata": {},
   "outputs": [
    {
     "name": "stdout",
     "output_type": "stream",
     "text": [
      "              precision    recall  f1-score   support\n",
      "\n",
      "           0       1.00      1.00      1.00   1906351\n",
      "           1       0.83      0.00      0.00      2435\n",
      "\n",
      "    accuracy                           1.00   1908786\n",
      "   macro avg       0.92      0.50      0.50   1908786\n",
      "weighted avg       1.00      1.00      1.00   1908786\n",
      "\n"
     ]
    }
   ],
   "source": [
    "cl_rp_gb = classification_report(Y_test , Y_pred_gb)\n",
    "print(cl_rp_gb)"
   ]
  },
  {
   "cell_type": "code",
   "execution_count": 118,
   "id": "c2061549",
   "metadata": {},
   "outputs": [],
   "source": [
    "cm_gb= confusion_matrix(Y_test,Y_pred_gb)"
   ]
  },
  {
   "cell_type": "code",
   "execution_count": 119,
   "id": "ec3ab532",
   "metadata": {},
   "outputs": [
    {
     "name": "stdout",
     "output_type": "stream",
     "text": [
      "[[1906350       1]\n",
      " [   2430       5]]\n"
     ]
    }
   ],
   "source": [
    "print(cm_gb)"
   ]
  },
  {
   "cell_type": "code",
   "execution_count": 120,
   "id": "a0478495",
   "metadata": {},
   "outputs": [],
   "source": [
    "# recall and precision is almost 0 so performance is very bad."
   ]
  },
  {
   "cell_type": "code",
   "execution_count": 126,
   "id": "e96dc214",
   "metadata": {},
   "outputs": [
    {
     "name": "stdout",
     "output_type": "stream",
     "text": [
      "Defaulting to user installation because normal site-packages is not writeable\n",
      "Collecting xgboost\n",
      "  Obtaining dependency information for xgboost from https://files.pythonhosted.org/packages/24/ec/ad387100fa3cc2b9b81af0829b5ecfe75ec5bb19dd7c19d4fea06fb81802/xgboost-2.0.3-py3-none-win_amd64.whl.metadata\n",
      "  Downloading xgboost-2.0.3-py3-none-win_amd64.whl.metadata (2.0 kB)\n",
      "Requirement already satisfied: numpy in c:\\programdata\\anaconda3\\lib\\site-packages (from xgboost) (1.24.3)\n",
      "Requirement already satisfied: scipy in c:\\programdata\\anaconda3\\lib\\site-packages (from xgboost) (1.11.1)\n",
      "Downloading xgboost-2.0.3-py3-none-win_amd64.whl (99.8 MB)\n",
      "   ---------------------------------------- 0.0/99.8 MB ? eta -:--:--\n",
      "   ---------------------------------------- 0.0/99.8 MB ? eta -:--:--\n",
      "   ---------------------------------------- 0.1/99.8 MB 1.1 MB/s eta 0:01:30\n",
      "   ---------------------------------------- 0.5/99.8 MB 4.2 MB/s eta 0:00:24\n",
      "   ---------------------------------------- 1.0/99.8 MB 6.9 MB/s eta 0:00:15\n",
      "    --------------------------------------- 1.6/99.8 MB 8.3 MB/s eta 0:00:12\n",
      "    --------------------------------------- 1.9/99.8 MB 8.1 MB/s eta 0:00:13\n",
      "    --------------------------------------- 2.4/99.8 MB 8.5 MB/s eta 0:00:12\n",
      "   - -------------------------------------- 2.9/99.8 MB 8.7 MB/s eta 0:00:12\n",
      "   - -------------------------------------- 3.4/99.8 MB 9.0 MB/s eta 0:00:11\n",
      "   - -------------------------------------- 3.9/99.8 MB 9.2 MB/s eta 0:00:11\n",
      "   - -------------------------------------- 4.3/99.8 MB 9.3 MB/s eta 0:00:11\n",
      "   - -------------------------------------- 4.8/99.8 MB 9.3 MB/s eta 0:00:11\n",
      "   -- ------------------------------------- 5.2/99.8 MB 9.3 MB/s eta 0:00:11\n",
      "   -- ------------------------------------- 5.4/99.8 MB 8.9 MB/s eta 0:00:11\n",
      "   -- ------------------------------------- 5.7/99.8 MB 8.8 MB/s eta 0:00:11\n",
      "   -- ------------------------------------- 5.9/99.8 MB 8.4 MB/s eta 0:00:12\n",
      "   -- ------------------------------------- 6.2/99.8 MB 8.4 MB/s eta 0:00:12\n",
      "   -- ------------------------------------- 6.6/99.8 MB 8.2 MB/s eta 0:00:12\n",
      "   -- ------------------------------------- 6.9/99.8 MB 8.3 MB/s eta 0:00:12\n",
      "   -- ------------------------------------- 7.4/99.8 MB 8.3 MB/s eta 0:00:12\n",
      "   --- ------------------------------------ 7.8/99.8 MB 8.4 MB/s eta 0:00:11\n",
      "   --- ------------------------------------ 8.3/99.8 MB 8.4 MB/s eta 0:00:11\n",
      "   --- ------------------------------------ 8.7/99.8 MB 8.6 MB/s eta 0:00:11\n",
      "   --- ------------------------------------ 9.1/99.8 MB 8.5 MB/s eta 0:00:11\n",
      "   --- ------------------------------------ 9.3/99.8 MB 8.4 MB/s eta 0:00:11\n",
      "   --- ------------------------------------ 9.8/99.8 MB 8.5 MB/s eta 0:00:11\n",
      "   ---- ----------------------------------- 10.3/99.8 MB 8.7 MB/s eta 0:00:11\n",
      "   ---- ----------------------------------- 10.6/99.8 MB 8.8 MB/s eta 0:00:11\n",
      "   ---- ----------------------------------- 11.2/99.8 MB 9.0 MB/s eta 0:00:10\n",
      "   ---- ----------------------------------- 11.6/99.8 MB 8.8 MB/s eta 0:00:10\n",
      "   ---- ----------------------------------- 12.3/99.8 MB 9.0 MB/s eta 0:00:10\n",
      "   ----- ---------------------------------- 12.8/99.8 MB 9.0 MB/s eta 0:00:10\n",
      "   ----- ---------------------------------- 13.2/99.8 MB 9.0 MB/s eta 0:00:10\n",
      "   ----- ---------------------------------- 13.6/99.8 MB 8.8 MB/s eta 0:00:10\n",
      "   ----- ---------------------------------- 13.9/99.8 MB 8.7 MB/s eta 0:00:10\n",
      "   ----- ---------------------------------- 14.3/99.8 MB 8.7 MB/s eta 0:00:10\n",
      "   ----- ---------------------------------- 14.7/99.8 MB 8.6 MB/s eta 0:00:10\n",
      "   ------ --------------------------------- 15.2/99.8 MB 8.6 MB/s eta 0:00:10\n",
      "   ------ --------------------------------- 15.6/99.8 MB 9.0 MB/s eta 0:00:10\n",
      "   ------ --------------------------------- 16.2/99.8 MB 9.2 MB/s eta 0:00:10\n",
      "   ------ --------------------------------- 16.6/99.8 MB 9.4 MB/s eta 0:00:09\n",
      "   ------ --------------------------------- 17.0/99.8 MB 9.4 MB/s eta 0:00:09\n",
      "   ------- -------------------------------- 17.5/99.8 MB 9.5 MB/s eta 0:00:09\n",
      "   ------- -------------------------------- 18.1/99.8 MB 9.6 MB/s eta 0:00:09\n",
      "   ------- -------------------------------- 18.7/99.8 MB 9.8 MB/s eta 0:00:09\n",
      "   ------- -------------------------------- 19.0/99.8 MB 9.9 MB/s eta 0:00:09\n",
      "   ------- -------------------------------- 19.7/99.8 MB 10.2 MB/s eta 0:00:08\n",
      "   -------- ------------------------------- 20.2/99.8 MB 10.4 MB/s eta 0:00:08\n",
      "   -------- ------------------------------- 20.7/99.8 MB 10.4 MB/s eta 0:00:08\n",
      "   -------- ------------------------------- 21.2/99.8 MB 10.2 MB/s eta 0:00:08\n",
      "   -------- ------------------------------- 21.8/99.8 MB 10.6 MB/s eta 0:00:08\n",
      "   -------- ------------------------------- 22.1/99.8 MB 10.4 MB/s eta 0:00:08\n",
      "   --------- ------------------------------ 22.7/99.8 MB 10.2 MB/s eta 0:00:08\n",
      "   --------- ------------------------------ 23.3/99.8 MB 10.6 MB/s eta 0:00:08\n",
      "   --------- ------------------------------ 23.8/99.8 MB 10.6 MB/s eta 0:00:08\n",
      "   --------- ------------------------------ 24.3/99.8 MB 10.9 MB/s eta 0:00:07\n",
      "   --------- ------------------------------ 24.9/99.8 MB 11.1 MB/s eta 0:00:07\n",
      "   ---------- ----------------------------- 25.0/99.8 MB 10.9 MB/s eta 0:00:07\n",
      "   ---------- ----------------------------- 25.0/99.8 MB 10.9 MB/s eta 0:00:07\n",
      "   ---------- ----------------------------- 25.0/99.8 MB 9.6 MB/s eta 0:00:08\n",
      "   ---------- ----------------------------- 25.5/99.8 MB 9.6 MB/s eta 0:00:08\n",
      "   ---------- ----------------------------- 26.1/99.8 MB 9.8 MB/s eta 0:00:08\n",
      "   ---------- ----------------------------- 26.5/99.8 MB 9.9 MB/s eta 0:00:08\n",
      "   ---------- ----------------------------- 27.2/99.8 MB 10.1 MB/s eta 0:00:08\n",
      "   ----------- ---------------------------- 27.8/99.8 MB 10.1 MB/s eta 0:00:08\n",
      "   ----------- ---------------------------- 28.5/99.8 MB 10.1 MB/s eta 0:00:08\n",
      "   ----------- ---------------------------- 28.7/99.8 MB 9.9 MB/s eta 0:00:08\n",
      "   ----------- ---------------------------- 28.7/99.8 MB 9.9 MB/s eta 0:00:08\n",
      "   ----------- ---------------------------- 28.7/99.8 MB 9.0 MB/s eta 0:00:08\n",
      "   ----------- ---------------------------- 29.1/99.8 MB 9.1 MB/s eta 0:00:08\n",
      "   ----------- ---------------------------- 29.7/99.8 MB 9.1 MB/s eta 0:00:08\n",
      "   ------------ --------------------------- 30.4/99.8 MB 9.1 MB/s eta 0:00:08\n",
      "   ------------ --------------------------- 31.0/99.8 MB 9.2 MB/s eta 0:00:08\n",
      "   ------------ --------------------------- 31.3/99.8 MB 9.1 MB/s eta 0:00:08\n",
      "   ------------ --------------------------- 31.7/99.8 MB 9.0 MB/s eta 0:00:08\n",
      "   ------------ --------------------------- 32.1/99.8 MB 8.8 MB/s eta 0:00:08\n",
      "   ------------- -------------------------- 32.4/99.8 MB 9.0 MB/s eta 0:00:08\n",
      "   ------------- -------------------------- 32.8/99.8 MB 8.7 MB/s eta 0:00:08\n",
      "   ------------- -------------------------- 33.2/99.8 MB 8.7 MB/s eta 0:00:08\n",
      "   ------------- -------------------------- 33.6/99.8 MB 8.6 MB/s eta 0:00:08\n",
      "   ------------- -------------------------- 34.2/99.8 MB 8.5 MB/s eta 0:00:08\n",
      "   ------------- -------------------------- 34.6/99.8 MB 8.6 MB/s eta 0:00:08\n",
      "   -------------- ------------------------- 35.1/99.8 MB 8.5 MB/s eta 0:00:08\n",
      "   -------------- ------------------------- 35.8/99.8 MB 9.5 MB/s eta 0:00:07\n",
      "   -------------- ------------------------- 36.3/99.8 MB 9.6 MB/s eta 0:00:07\n",
      "   -------------- ------------------------- 36.9/99.8 MB 9.5 MB/s eta 0:00:07\n",
      "   -------------- ------------------------- 37.2/99.8 MB 9.5 MB/s eta 0:00:07\n",
      "   --------------- ------------------------ 37.7/99.8 MB 9.4 MB/s eta 0:00:07\n",
      "   --------------- ------------------------ 38.3/99.8 MB 9.4 MB/s eta 0:00:07\n",
      "   --------------- ------------------------ 38.9/99.8 MB 10.6 MB/s eta 0:00:06\n",
      "   --------------- ------------------------ 39.4/99.8 MB 10.7 MB/s eta 0:00:06\n",
      "   ---------------- ----------------------- 40.0/99.8 MB 10.6 MB/s eta 0:00:06\n",
      "   ---------------- ----------------------- 40.4/99.8 MB 10.4 MB/s eta 0:00:06\n",
      "   ---------------- ----------------------- 40.7/99.8 MB 10.1 MB/s eta 0:00:06\n",
      "   ---------------- ----------------------- 40.9/99.8 MB 10.1 MB/s eta 0:00:06\n",
      "   ---------------- ----------------------- 41.3/99.8 MB 9.8 MB/s eta 0:00:06\n",
      "   ---------------- ----------------------- 41.9/99.8 MB 10.1 MB/s eta 0:00:06\n",
      "   ----------------- ---------------------- 42.6/99.8 MB 10.4 MB/s eta 0:00:06\n",
      "   ----------------- ---------------------- 42.9/99.8 MB 10.4 MB/s eta 0:00:06\n",
      "   ----------------- ---------------------- 43.5/99.8 MB 10.6 MB/s eta 0:00:06\n",
      "   ----------------- ---------------------- 44.1/99.8 MB 10.7 MB/s eta 0:00:06\n",
      "   ----------------- ---------------------- 44.5/99.8 MB 10.7 MB/s eta 0:00:06\n",
      "   ------------------ --------------------- 44.9/99.8 MB 10.6 MB/s eta 0:00:06\n",
      "   ------------------ --------------------- 45.3/99.8 MB 10.6 MB/s eta 0:00:06\n",
      "   ------------------ --------------------- 46.1/99.8 MB 10.6 MB/s eta 0:00:06\n",
      "   ------------------ --------------------- 46.4/99.8 MB 10.4 MB/s eta 0:00:06\n",
      "   ------------------ --------------------- 47.1/99.8 MB 10.7 MB/s eta 0:00:05\n",
      "   ------------------- -------------------- 47.6/99.8 MB 10.7 MB/s eta 0:00:05\n",
      "   ------------------- -------------------- 48.1/99.8 MB 10.6 MB/s eta 0:00:05\n",
      "   ------------------- -------------------- 48.4/99.8 MB 10.4 MB/s eta 0:00:05\n",
      "   ------------------- -------------------- 48.9/99.8 MB 10.2 MB/s eta 0:00:05\n",
      "   ------------------- -------------------- 49.3/99.8 MB 10.1 MB/s eta 0:00:06\n",
      "   ------------------- -------------------- 49.7/99.8 MB 10.2 MB/s eta 0:00:05\n",
      "   -------------------- ------------------- 50.1/99.8 MB 10.1 MB/s eta 0:00:05\n",
      "   -------------------- ------------------- 50.6/99.8 MB 9.9 MB/s eta 0:00:05\n",
      "   -------------------- ------------------- 51.1/99.8 MB 10.4 MB/s eta 0:00:05\n",
      "   -------------------- ------------------- 51.4/99.8 MB 10.6 MB/s eta 0:00:05\n",
      "   -------------------- ------------------- 51.8/99.8 MB 10.2 MB/s eta 0:00:05\n",
      "   --------------------- ------------------ 52.6/99.8 MB 10.4 MB/s eta 0:00:05\n",
      "   --------------------- ------------------ 53.1/99.8 MB 10.6 MB/s eta 0:00:05\n",
      "   --------------------- ------------------ 53.6/99.8 MB 10.6 MB/s eta 0:00:05\n",
      "   --------------------- ------------------ 54.2/99.8 MB 10.4 MB/s eta 0:00:05\n",
      "   --------------------- ------------------ 54.6/99.8 MB 10.4 MB/s eta 0:00:05\n",
      "   ---------------------- ----------------- 55.1/99.8 MB 10.6 MB/s eta 0:00:05\n",
      "   ---------------------- ----------------- 55.7/99.8 MB 10.6 MB/s eta 0:00:05\n",
      "   ---------------------- ----------------- 56.2/99.8 MB 10.6 MB/s eta 0:00:05\n",
      "   ---------------------- ----------------- 56.8/99.8 MB 10.6 MB/s eta 0:00:05\n",
      "   ---------------------- ----------------- 57.2/99.8 MB 10.4 MB/s eta 0:00:05\n",
      "   ----------------------- ---------------- 57.6/99.8 MB 10.4 MB/s eta 0:00:05\n",
      "   ----------------------- ---------------- 57.9/99.8 MB 10.1 MB/s eta 0:00:05\n",
      "   ----------------------- ---------------- 58.4/99.8 MB 10.1 MB/s eta 0:00:05\n",
      "   ----------------------- ---------------- 58.6/99.8 MB 10.1 MB/s eta 0:00:05\n",
      "   ----------------------- ---------------- 58.8/99.8 MB 9.9 MB/s eta 0:00:05\n",
      "   ----------------------- ---------------- 59.1/99.8 MB 9.8 MB/s eta 0:00:05\n",
      "   ----------------------- ---------------- 59.6/99.8 MB 9.6 MB/s eta 0:00:05\n",
      "   ------------------------ --------------- 60.1/99.8 MB 9.6 MB/s eta 0:00:05\n",
      "   ------------------------ --------------- 60.5/99.8 MB 9.6 MB/s eta 0:00:05\n",
      "   ------------------------ --------------- 60.8/99.8 MB 9.6 MB/s eta 0:00:05\n",
      "   ------------------------ --------------- 61.3/99.8 MB 9.6 MB/s eta 0:00:04\n",
      "   ------------------------ --------------- 61.8/99.8 MB 9.6 MB/s eta 0:00:04\n",
      "   ------------------------ --------------- 62.3/99.8 MB 9.6 MB/s eta 0:00:04\n",
      "   ------------------------- -------------- 62.6/99.8 MB 9.5 MB/s eta 0:00:04\n",
      "   ------------------------- -------------- 63.1/99.8 MB 9.5 MB/s eta 0:00:04\n",
      "   ------------------------- -------------- 63.5/99.8 MB 9.4 MB/s eta 0:00:04\n",
      "   ------------------------- -------------- 63.9/99.8 MB 9.4 MB/s eta 0:00:04\n",
      "   ------------------------- -------------- 64.2/99.8 MB 9.1 MB/s eta 0:00:04\n",
      "   ------------------------- -------------- 64.7/99.8 MB 9.1 MB/s eta 0:00:04\n",
      "   -------------------------- ------------- 64.9/99.8 MB 8.8 MB/s eta 0:00:04\n",
      "   -------------------------- ------------- 65.2/99.8 MB 8.7 MB/s eta 0:00:04\n",
      "   -------------------------- ------------- 65.6/99.8 MB 8.6 MB/s eta 0:00:04\n",
      "   -------------------------- ------------- 66.1/99.8 MB 8.6 MB/s eta 0:00:04\n",
      "   -------------------------- ------------- 66.5/99.8 MB 8.5 MB/s eta 0:00:04\n",
      "   -------------------------- ------------- 66.8/99.8 MB 8.4 MB/s eta 0:00:04\n",
      "   --------------------------- ------------ 67.3/99.8 MB 8.4 MB/s eta 0:00:04\n",
      "   --------------------------- ------------ 67.8/99.8 MB 8.4 MB/s eta 0:00:04\n",
      "   --------------------------- ------------ 68.1/99.8 MB 8.5 MB/s eta 0:00:04\n",
      "   --------------------------- ------------ 68.7/99.8 MB 8.7 MB/s eta 0:00:04\n",
      "   --------------------------- ------------ 69.1/99.8 MB 8.8 MB/s eta 0:00:04\n",
      "   --------------------------- ------------ 69.3/99.8 MB 8.7 MB/s eta 0:00:04\n",
      "   --------------------------- ------------ 69.7/99.8 MB 8.6 MB/s eta 0:00:04\n",
      "   ---------------------------- ----------- 70.0/99.8 MB 8.5 MB/s eta 0:00:04\n",
      "   ---------------------------- ----------- 70.4/99.8 MB 8.5 MB/s eta 0:00:04\n",
      "   ---------------------------- ----------- 70.7/99.8 MB 8.5 MB/s eta 0:00:04\n",
      "   ---------------------------- ----------- 71.0/99.8 MB 8.5 MB/s eta 0:00:04\n",
      "   ---------------------------- ----------- 71.4/99.8 MB 8.4 MB/s eta 0:00:04\n",
      "   ---------------------------- ----------- 71.7/99.8 MB 8.5 MB/s eta 0:00:04\n",
      "   ---------------------------- ----------- 72.0/99.8 MB 8.3 MB/s eta 0:00:04\n",
      "   ----------------------------- ---------- 72.4/99.8 MB 8.2 MB/s eta 0:00:04\n",
      "   ----------------------------- ---------- 72.7/99.8 MB 8.0 MB/s eta 0:00:04\n",
      "   ----------------------------- ---------- 72.9/99.8 MB 8.1 MB/s eta 0:00:04\n",
      "   ----------------------------- ---------- 73.3/99.8 MB 7.9 MB/s eta 0:00:04\n",
      "   ----------------------------- ---------- 73.6/99.8 MB 7.9 MB/s eta 0:00:04\n",
      "   ----------------------------- ---------- 73.6/99.8 MB 7.8 MB/s eta 0:00:04\n",
      "   ----------------------------- ---------- 73.6/99.8 MB 7.8 MB/s eta 0:00:04\n",
      "   ----------------------------- ---------- 73.8/99.8 MB 7.3 MB/s eta 0:00:04\n",
      "   ----------------------------- ---------- 74.4/99.8 MB 7.4 MB/s eta 0:00:04\n",
      "   ------------------------------ --------- 75.0/99.8 MB 7.5 MB/s eta 0:00:04\n",
      "   ------------------------------ --------- 75.3/99.8 MB 7.6 MB/s eta 0:00:04\n",
      "   ------------------------------ --------- 75.6/99.8 MB 7.5 MB/s eta 0:00:04\n",
      "   ------------------------------ --------- 76.0/99.8 MB 7.4 MB/s eta 0:00:04\n",
      "   ------------------------------ --------- 76.3/99.8 MB 7.4 MB/s eta 0:00:04\n",
      "   ------------------------------ --------- 76.6/99.8 MB 7.4 MB/s eta 0:00:04\n",
      "   ------------------------------ --------- 76.9/99.8 MB 7.3 MB/s eta 0:00:04\n",
      "   ------------------------------ --------- 77.2/99.8 MB 7.2 MB/s eta 0:00:04\n",
      "   ------------------------------- -------- 77.4/99.8 MB 7.0 MB/s eta 0:00:04\n",
      "   ------------------------------- -------- 77.9/99.8 MB 7.1 MB/s eta 0:00:04\n",
      "   ------------------------------- -------- 78.1/99.8 MB 7.0 MB/s eta 0:00:04\n",
      "   ------------------------------- -------- 78.5/99.8 MB 7.0 MB/s eta 0:00:04\n",
      "   ------------------------------- -------- 78.6/99.8 MB 6.8 MB/s eta 0:00:04\n",
      "   ------------------------------- -------- 79.1/99.8 MB 6.8 MB/s eta 0:00:04\n",
      "   ------------------------------- -------- 79.6/99.8 MB 7.0 MB/s eta 0:00:03\n",
      "   -------------------------------- ------- 79.9/99.8 MB 6.9 MB/s eta 0:00:03\n",
      "   -------------------------------- ------- 80.2/99.8 MB 6.9 MB/s eta 0:00:03\n",
      "   -------------------------------- ------- 80.7/99.8 MB 6.9 MB/s eta 0:00:03\n",
      "   -------------------------------- ------- 81.0/99.8 MB 6.9 MB/s eta 0:00:03\n",
      "   -------------------------------- ------- 81.4/99.8 MB 7.0 MB/s eta 0:00:03\n",
      "   -------------------------------- ------- 81.9/99.8 MB 7.0 MB/s eta 0:00:03\n",
      "   -------------------------------- ------- 82.2/99.8 MB 7.0 MB/s eta 0:00:03\n",
      "   --------------------------------- ------ 82.5/99.8 MB 7.0 MB/s eta 0:00:03\n",
      "   --------------------------------- ------ 82.8/99.8 MB 7.0 MB/s eta 0:00:03\n",
      "   --------------------------------- ------ 83.3/99.8 MB 7.2 MB/s eta 0:00:03\n",
      "   --------------------------------- ------ 83.6/99.8 MB 7.1 MB/s eta 0:00:03\n",
      "   --------------------------------- ------ 83.9/99.8 MB 7.8 MB/s eta 0:00:03\n",
      "   --------------------------------- ------ 84.2/99.8 MB 7.6 MB/s eta 0:00:03\n",
      "   --------------------------------- ------ 84.6/99.8 MB 7.5 MB/s eta 0:00:03\n",
      "   ---------------------------------- ----- 84.8/99.8 MB 7.4 MB/s eta 0:00:03\n",
      "   ---------------------------------- ----- 85.2/99.8 MB 7.3 MB/s eta 0:00:02\n",
      "   ---------------------------------- ----- 85.5/99.8 MB 7.4 MB/s eta 0:00:02\n",
      "   ---------------------------------- ----- 85.9/99.8 MB 7.4 MB/s eta 0:00:02\n",
      "   ---------------------------------- ----- 86.3/99.8 MB 7.4 MB/s eta 0:00:02\n",
      "   ---------------------------------- ----- 86.7/99.8 MB 7.4 MB/s eta 0:00:02\n",
      "   ---------------------------------- ----- 87.1/99.8 MB 7.6 MB/s eta 0:00:02\n",
      "   ----------------------------------- ---- 87.4/99.8 MB 7.6 MB/s eta 0:00:02\n",
      "   ----------------------------------- ---- 87.6/99.8 MB 7.5 MB/s eta 0:00:02\n",
      "   ----------------------------------- ---- 87.9/99.8 MB 7.4 MB/s eta 0:00:02\n",
      "   ----------------------------------- ---- 87.9/99.8 MB 7.4 MB/s eta 0:00:02\n",
      "   ----------------------------------- ---- 87.9/99.8 MB 7.4 MB/s eta 0:00:02\n",
      "   ----------------------------------- ---- 88.0/99.8 MB 6.7 MB/s eta 0:00:02\n",
      "   ----------------------------------- ---- 88.7/99.8 MB 7.1 MB/s eta 0:00:02\n",
      "   ----------------------------------- ---- 89.2/99.8 MB 7.2 MB/s eta 0:00:02\n",
      "   ----------------------------------- ---- 89.6/99.8 MB 7.2 MB/s eta 0:00:02\n",
      "   ------------------------------------ --- 89.8/99.8 MB 7.1 MB/s eta 0:00:02\n",
      "   ------------------------------------ --- 90.3/99.8 MB 7.2 MB/s eta 0:00:02\n",
      "   ------------------------------------ --- 90.7/99.8 MB 7.2 MB/s eta 0:00:02\n",
      "   ------------------------------------ --- 90.9/99.8 MB 7.2 MB/s eta 0:00:02\n",
      "   ------------------------------------ --- 91.3/99.8 MB 7.2 MB/s eta 0:00:02\n",
      "   ------------------------------------ --- 91.7/99.8 MB 7.1 MB/s eta 0:00:02\n",
      "   ------------------------------------ --- 92.1/99.8 MB 7.2 MB/s eta 0:00:02\n",
      "   ------------------------------------- -- 92.3/99.8 MB 7.0 MB/s eta 0:00:02\n",
      "   ------------------------------------- -- 92.6/99.8 MB 7.0 MB/s eta 0:00:02\n",
      "   ------------------------------------- -- 92.8/99.8 MB 6.9 MB/s eta 0:00:02\n",
      "   ------------------------------------- -- 93.0/99.8 MB 6.9 MB/s eta 0:00:01\n",
      "   ------------------------------------- -- 93.3/99.8 MB 6.8 MB/s eta 0:00:01\n",
      "   ------------------------------------- -- 93.4/99.8 MB 6.7 MB/s eta 0:00:01\n",
      "   ------------------------------------- -- 93.7/99.8 MB 6.6 MB/s eta 0:00:01\n",
      "   ------------------------------------- -- 93.8/99.8 MB 6.5 MB/s eta 0:00:01\n",
      "   ------------------------------------- -- 94.1/99.8 MB 6.5 MB/s eta 0:00:01\n",
      "   ------------------------------------- -- 94.4/99.8 MB 6.5 MB/s eta 0:00:01\n",
      "   ------------------------------------- -- 94.7/99.8 MB 6.4 MB/s eta 0:00:01\n",
      "   -------------------------------------- - 95.1/99.8 MB 6.5 MB/s eta 0:00:01\n",
      "   -------------------------------------- - 95.3/99.8 MB 6.4 MB/s eta 0:00:01\n",
      "   -------------------------------------- - 95.6/99.8 MB 6.3 MB/s eta 0:00:01\n",
      "   -------------------------------------- - 95.9/99.8 MB 6.3 MB/s eta 0:00:01\n",
      "   -------------------------------------- - 96.2/99.8 MB 6.3 MB/s eta 0:00:01\n",
      "   -------------------------------------- - 96.4/99.8 MB 6.2 MB/s eta 0:00:01\n",
      "   -------------------------------------- - 96.7/99.8 MB 6.3 MB/s eta 0:00:01\n",
      "   -------------------------------------- - 97.0/99.8 MB 6.1 MB/s eta 0:00:01\n",
      "   ---------------------------------------  97.3/99.8 MB 6.1 MB/s eta 0:00:01\n",
      "   ---------------------------------------  97.6/99.8 MB 6.1 MB/s eta 0:00:01\n",
      "   ---------------------------------------  97.9/99.8 MB 6.2 MB/s eta 0:00:01\n",
      "   ---------------------------------------  98.3/99.8 MB 6.7 MB/s eta 0:00:01\n",
      "   ---------------------------------------  98.3/99.8 MB 6.6 MB/s eta 0:00:01\n",
      "   ---------------------------------------  98.6/99.8 MB 6.4 MB/s eta 0:00:01\n",
      "   ---------------------------------------  98.8/99.8 MB 6.3 MB/s eta 0:00:01\n",
      "   ---------------------------------------  99.0/99.8 MB 6.2 MB/s eta 0:00:01\n",
      "   ---------------------------------------  99.3/99.8 MB 6.1 MB/s eta 0:00:01\n",
      "   ---------------------------------------  99.4/99.8 MB 6.0 MB/s eta 0:00:01\n",
      "   ---------------------------------------  99.6/99.8 MB 5.9 MB/s eta 0:00:01\n",
      "   ---------------------------------------  99.7/99.8 MB 5.8 MB/s eta 0:00:01\n",
      "   ---------------------------------------  99.7/99.8 MB 5.8 MB/s eta 0:00:01\n",
      "   ---------------------------------------  99.7/99.8 MB 5.8 MB/s eta 0:00:01\n",
      "   ---------------------------------------  99.7/99.8 MB 5.8 MB/s eta 0:00:01\n",
      "   ---------------------------------------  99.7/99.8 MB 5.8 MB/s eta 0:00:01\n",
      "   ---------------------------------------- 99.8/99.8 MB 5.0 MB/s eta 0:00:00\n",
      "Installing collected packages: xgboost\n",
      "Successfully installed xgboost-2.0.3\n"
     ]
    }
   ],
   "source": [
    "!pip install xgboost"
   ]
  },
  {
   "cell_type": "code",
   "execution_count": 127,
   "id": "79392d3a",
   "metadata": {},
   "outputs": [],
   "source": [
    "import xgboost\n",
    "from xgboost import XGBClassifier"
   ]
  },
  {
   "cell_type": "code",
   "execution_count": 128,
   "id": "6276629b",
   "metadata": {},
   "outputs": [],
   "source": [
    "xgb_model = xgboost.XGBClassifier()"
   ]
  },
  {
   "cell_type": "code",
   "execution_count": 129,
   "id": "e1ad57c5",
   "metadata": {},
   "outputs": [
    {
     "data": {
      "text/html": [
       "<style>#sk-container-id-7 {color: black;background-color: white;}#sk-container-id-7 pre{padding: 0;}#sk-container-id-7 div.sk-toggleable {background-color: white;}#sk-container-id-7 label.sk-toggleable__label {cursor: pointer;display: block;width: 100%;margin-bottom: 0;padding: 0.3em;box-sizing: border-box;text-align: center;}#sk-container-id-7 label.sk-toggleable__label-arrow:before {content: \"▸\";float: left;margin-right: 0.25em;color: #696969;}#sk-container-id-7 label.sk-toggleable__label-arrow:hover:before {color: black;}#sk-container-id-7 div.sk-estimator:hover label.sk-toggleable__label-arrow:before {color: black;}#sk-container-id-7 div.sk-toggleable__content {max-height: 0;max-width: 0;overflow: hidden;text-align: left;background-color: #f0f8ff;}#sk-container-id-7 div.sk-toggleable__content pre {margin: 0.2em;color: black;border-radius: 0.25em;background-color: #f0f8ff;}#sk-container-id-7 input.sk-toggleable__control:checked~div.sk-toggleable__content {max-height: 200px;max-width: 100%;overflow: auto;}#sk-container-id-7 input.sk-toggleable__control:checked~label.sk-toggleable__label-arrow:before {content: \"▾\";}#sk-container-id-7 div.sk-estimator input.sk-toggleable__control:checked~label.sk-toggleable__label {background-color: #d4ebff;}#sk-container-id-7 div.sk-label input.sk-toggleable__control:checked~label.sk-toggleable__label {background-color: #d4ebff;}#sk-container-id-7 input.sk-hidden--visually {border: 0;clip: rect(1px 1px 1px 1px);clip: rect(1px, 1px, 1px, 1px);height: 1px;margin: -1px;overflow: hidden;padding: 0;position: absolute;width: 1px;}#sk-container-id-7 div.sk-estimator {font-family: monospace;background-color: #f0f8ff;border: 1px dotted black;border-radius: 0.25em;box-sizing: border-box;margin-bottom: 0.5em;}#sk-container-id-7 div.sk-estimator:hover {background-color: #d4ebff;}#sk-container-id-7 div.sk-parallel-item::after {content: \"\";width: 100%;border-bottom: 1px solid gray;flex-grow: 1;}#sk-container-id-7 div.sk-label:hover label.sk-toggleable__label {background-color: #d4ebff;}#sk-container-id-7 div.sk-serial::before {content: \"\";position: absolute;border-left: 1px solid gray;box-sizing: border-box;top: 0;bottom: 0;left: 50%;z-index: 0;}#sk-container-id-7 div.sk-serial {display: flex;flex-direction: column;align-items: center;background-color: white;padding-right: 0.2em;padding-left: 0.2em;position: relative;}#sk-container-id-7 div.sk-item {position: relative;z-index: 1;}#sk-container-id-7 div.sk-parallel {display: flex;align-items: stretch;justify-content: center;background-color: white;position: relative;}#sk-container-id-7 div.sk-item::before, #sk-container-id-7 div.sk-parallel-item::before {content: \"\";position: absolute;border-left: 1px solid gray;box-sizing: border-box;top: 0;bottom: 0;left: 50%;z-index: -1;}#sk-container-id-7 div.sk-parallel-item {display: flex;flex-direction: column;z-index: 1;position: relative;background-color: white;}#sk-container-id-7 div.sk-parallel-item:first-child::after {align-self: flex-end;width: 50%;}#sk-container-id-7 div.sk-parallel-item:last-child::after {align-self: flex-start;width: 50%;}#sk-container-id-7 div.sk-parallel-item:only-child::after {width: 0;}#sk-container-id-7 div.sk-dashed-wrapped {border: 1px dashed gray;margin: 0 0.4em 0.5em 0.4em;box-sizing: border-box;padding-bottom: 0.4em;background-color: white;}#sk-container-id-7 div.sk-label label {font-family: monospace;font-weight: bold;display: inline-block;line-height: 1.2em;}#sk-container-id-7 div.sk-label-container {text-align: center;}#sk-container-id-7 div.sk-container {/* jupyter's `normalize.less` sets `[hidden] { display: none; }` but bootstrap.min.css set `[hidden] { display: none !important; }` so we also need the `!important` here to be able to override the default hidden behavior on the sphinx rendered scikit-learn.org. See: https://github.com/scikit-learn/scikit-learn/issues/21755 */display: inline-block !important;position: relative;}#sk-container-id-7 div.sk-text-repr-fallback {display: none;}</style><div id=\"sk-container-id-7\" class=\"sk-top-container\"><div class=\"sk-text-repr-fallback\"><pre>XGBClassifier(base_score=None, booster=None, callbacks=None,\n",
       "              colsample_bylevel=None, colsample_bynode=None,\n",
       "              colsample_bytree=None, device=None, early_stopping_rounds=None,\n",
       "              enable_categorical=False, eval_metric=None, feature_types=None,\n",
       "              gamma=None, grow_policy=None, importance_type=None,\n",
       "              interaction_constraints=None, learning_rate=None, max_bin=None,\n",
       "              max_cat_threshold=None, max_cat_to_onehot=None,\n",
       "              max_delta_step=None, max_depth=None, max_leaves=None,\n",
       "              min_child_weight=None, missing=nan, monotone_constraints=None,\n",
       "              multi_strategy=None, n_estimators=None, n_jobs=None,\n",
       "              num_parallel_tree=None, random_state=None, ...)</pre><b>In a Jupyter environment, please rerun this cell to show the HTML representation or trust the notebook. <br />On GitHub, the HTML representation is unable to render, please try loading this page with nbviewer.org.</b></div><div class=\"sk-container\" hidden><div class=\"sk-item\"><div class=\"sk-estimator sk-toggleable\"><input class=\"sk-toggleable__control sk-hidden--visually\" id=\"sk-estimator-id-7\" type=\"checkbox\" checked><label for=\"sk-estimator-id-7\" class=\"sk-toggleable__label sk-toggleable__label-arrow\">XGBClassifier</label><div class=\"sk-toggleable__content\"><pre>XGBClassifier(base_score=None, booster=None, callbacks=None,\n",
       "              colsample_bylevel=None, colsample_bynode=None,\n",
       "              colsample_bytree=None, device=None, early_stopping_rounds=None,\n",
       "              enable_categorical=False, eval_metric=None, feature_types=None,\n",
       "              gamma=None, grow_policy=None, importance_type=None,\n",
       "              interaction_constraints=None, learning_rate=None, max_bin=None,\n",
       "              max_cat_threshold=None, max_cat_to_onehot=None,\n",
       "              max_delta_step=None, max_depth=None, max_leaves=None,\n",
       "              min_child_weight=None, missing=nan, monotone_constraints=None,\n",
       "              multi_strategy=None, n_estimators=None, n_jobs=None,\n",
       "              num_parallel_tree=None, random_state=None, ...)</pre></div></div></div></div></div>"
      ],
      "text/plain": [
       "XGBClassifier(base_score=None, booster=None, callbacks=None,\n",
       "              colsample_bylevel=None, colsample_bynode=None,\n",
       "              colsample_bytree=None, device=None, early_stopping_rounds=None,\n",
       "              enable_categorical=False, eval_metric=None, feature_types=None,\n",
       "              gamma=None, grow_policy=None, importance_type=None,\n",
       "              interaction_constraints=None, learning_rate=None, max_bin=None,\n",
       "              max_cat_threshold=None, max_cat_to_onehot=None,\n",
       "              max_delta_step=None, max_depth=None, max_leaves=None,\n",
       "              min_child_weight=None, missing=nan, monotone_constraints=None,\n",
       "              multi_strategy=None, n_estimators=None, n_jobs=None,\n",
       "              num_parallel_tree=None, random_state=None, ...)"
      ]
     },
     "execution_count": 129,
     "metadata": {},
     "output_type": "execute_result"
    }
   ],
   "source": [
    "xgb_model.fit(X_train,Y_train)"
   ]
  },
  {
   "cell_type": "code",
   "execution_count": 130,
   "id": "d7083892",
   "metadata": {},
   "outputs": [],
   "source": [
    "Y_pred_xgb = xgb_model.predict(X_test)"
   ]
  },
  {
   "cell_type": "code",
   "execution_count": 131,
   "id": "2685aed8",
   "metadata": {},
   "outputs": [],
   "source": [
    "accuracy_xgb = accuracy_score(Y_test,Y_pred_xgb)"
   ]
  },
  {
   "cell_type": "code",
   "execution_count": 132,
   "id": "d6a2f57e",
   "metadata": {},
   "outputs": [
    {
     "name": "stdout",
     "output_type": "stream",
     "text": [
      "0.999537402307016\n"
     ]
    }
   ],
   "source": [
    "print(accuracy_xgb)"
   ]
  },
  {
   "cell_type": "code",
   "execution_count": 134,
   "id": "43e303c6",
   "metadata": {},
   "outputs": [],
   "source": [
    "cm_xgb= confusion_matrix(Y_test,Y_pred_xgb)"
   ]
  },
  {
   "cell_type": "code",
   "execution_count": 136,
   "id": "86d4fcb5",
   "metadata": {},
   "outputs": [
    {
     "name": "stdout",
     "output_type": "stream",
     "text": [
      "[[1906141     210]\n",
      " [    673    1762]]\n"
     ]
    }
   ],
   "source": [
    "print(cm_xgb)"
   ]
  },
  {
   "cell_type": "code",
   "execution_count": 143,
   "id": "fa23eb62",
   "metadata": {},
   "outputs": [
    {
     "name": "stdout",
     "output_type": "stream",
     "text": [
      "              precision    recall  f1-score   support\n",
      "\n",
      "           0       1.00      1.00      1.00   1906351\n",
      "           1       0.89      0.72      0.80      2435\n",
      "\n",
      "    accuracy                           1.00   1908786\n",
      "   macro avg       0.95      0.86      0.90   1908786\n",
      "weighted avg       1.00      1.00      1.00   1908786\n",
      "\n"
     ]
    }
   ],
   "source": [
    "cl_rp_xgb = classification_report(Y_test , Y_pred_xgb)\n",
    "print(cl_rp_xgb)"
   ]
  },
  {
   "cell_type": "code",
   "execution_count": 144,
   "id": "d2e141f2",
   "metadata": {},
   "outputs": [],
   "source": [
    "# i think random forest has the best out of all because for fraud person it has minium number which are being stated as not fraud. with this model we can have minimum potential loss to the bank or cpmpany. although some customer loss will be there due to actual not fraud but predicted fraud. "
   ]
  },
  {
   "cell_type": "code",
   "execution_count": null,
   "id": "7a2b6aa6",
   "metadata": {},
   "outputs": [],
   "source": []
  }
 ],
 "metadata": {
  "kernelspec": {
   "display_name": "Python 3 (ipykernel)",
   "language": "python",
   "name": "python3"
  },
  "language_info": {
   "codemirror_mode": {
    "name": "ipython",
    "version": 3
   },
   "file_extension": ".py",
   "mimetype": "text/x-python",
   "name": "python",
   "nbconvert_exporter": "python",
   "pygments_lexer": "ipython3",
   "version": "3.11.5"
  }
 },
 "nbformat": 4,
 "nbformat_minor": 5
}
